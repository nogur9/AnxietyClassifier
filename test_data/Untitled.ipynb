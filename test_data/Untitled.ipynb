{
 "cells": [
  {
   "cell_type": "code",
   "execution_count": 25,
   "metadata": {},
   "outputs": [],
   "source": [
    "import pandas as pd\n",
    "import numpy as np"
   ]
  },
  {
   "cell_type": "code",
   "execution_count": 31,
   "metadata": {},
   "outputs": [],
   "source": [
    "df1 = pd.read_excel(\"extracted_eye_link_features_subjects__2019-01-20_subj19_name_change.xlsx\").drop([\"Subject Number\"], axis=1)"
   ]
  },
  {
   "cell_type": "code",
   "execution_count": 32,
   "metadata": {},
   "outputs": [],
   "source": [
    "df2 = pd.read_excel(\"extracted_features_subjects_2019-01-15_name_change.xlsx\").drop([\"Subject Number\"], axis=1)"
   ]
  },
  {
   "cell_type": "code",
   "execution_count": 34,
   "metadata": {},
   "outputs": [],
   "source": [
    "diff = df1.mean() - df2.mean()"
   ]
  },
  {
   "cell_type": "code",
   "execution_count": 35,
   "metadata": {},
   "outputs": [
    {
     "data": {
      "text/plain": [
       "Amits                                  530.143663\n",
       "STD fixation length Disgusted           11.532933\n",
       "STD pupil size All                      67.576285\n",
       "STD pupil size Disgusted                66.839032\n",
       "STD pupil size Neutral                  66.841140\n",
       "STD pupil size White Space              72.035161\n",
       "amount fixation All                     21.398311\n",
       "amount fixation Disgusted               27.640026\n",
       "amount fixation Neutral                 13.038986\n",
       "average fixation length All             26.649198\n",
       "average fixation length Disgusted       40.943399\n",
       "average fixation length Neutral         17.903098\n",
       "average pupil size All                 503.063613\n",
       "average pupil size Disgusted           504.458267\n",
       "average pupil size Neutral             502.979040\n",
       "average pupil size White Space         480.246531\n",
       "mean different AOI per trial             1.520155\n",
       "sum fixation length All              19640.095906\n",
       "sum fixation length Disgusted        15793.709162\n",
       "sum fixation length Neutral           8910.135348\n",
       "trials mean AOIs 2coeff                  1.450346\n",
       "trials mean AOIs est mean                1.517671\n",
       "trials mean All 1coeff                   1.691178\n",
       "trials mean All 2coeff                  17.697899\n",
       "trials mean All est mean                41.637335\n",
       "trials mean Disgusted 2coeff            54.409451\n",
       "trials mean Disgusted est mean          49.333318\n",
       "trials mean Neutral 1coeff               1.522978\n",
       "trials mean Neutral 2coeff              17.785316\n",
       "trials mean Neutral est mean            39.371184\n",
       "trials mean WS 1coeff                    1.316282\n",
       "dtype: float64"
      ]
     },
     "execution_count": 35,
     "metadata": {},
     "output_type": "execute_result"
    }
   ],
   "source": [
    "diff[diff>1]"
   ]
  },
  {
   "cell_type": "code",
   "execution_count": null,
   "metadata": {},
   "outputs": [],
   "source": []
  }
 ],
 "metadata": {
  "kernelspec": {
   "display_name": "Python 3",
   "language": "python",
   "name": "python3"
  },
  "language_info": {
   "codemirror_mode": {
    "name": "ipython",
    "version": 3
   },
   "file_extension": ".py",
   "mimetype": "text/x-python",
   "name": "python",
   "nbconvert_exporter": "python",
   "pygments_lexer": "ipython3",
   "version": "3.6.4"
  }
 },
 "nbformat": 4,
 "nbformat_minor": 2
}
