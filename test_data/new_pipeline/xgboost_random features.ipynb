{
 "cells": [
  {
   "cell_type": "code",
   "execution_count": 35,
   "metadata": {},
   "outputs": [],
   "source": [
    "from sklearn.base import BaseEstimator, TransformerMixin\n",
    "import numpy as np\n",
    "import pandas as pd\n",
    "from sklearn.decomposition import PCA\n",
    "import pandas as pd\n",
    "import os\n",
    "import numpy as np\n",
    "from sklearn.feature_selection import RFE\n",
    "from sklearn.ensemble import RandomForestClassifier, GradientBoostingClassifier, AdaBoostClassifier\n",
    "from sklearn.svm import SVC\n",
    "from sklearn.pipeline import Pipeline\n",
    "from sklearn.preprocessing import MinMaxScaler\n",
    "from sklearn.model_selection import StratifiedKFold, GridSearchCV, train_test_split, cross_val_score\n",
    "from sklearn.tree import DecisionTreeClassifier\n",
    "from sklearn.linear_model import LogisticRegression\n",
    "from sklearn.neighbors import KNeighborsClassifier\n",
    "from sklearn.naive_bayes import GaussianNB\n",
    "from sklearn.model_selection import LeaveOneOut\n",
    "from imblearn.over_sampling import SMOTE, ADASYN\n",
    "#from imblearn.pipeline import Pipeline\n",
    "from xgboost import XGBClassifier\n",
    "from sklearn.metrics import accuracy_score\n",
    "import random"
   ]
  },
  {
   "cell_type": "code",
   "execution_count": 36,
   "metadata": {},
   "outputs": [],
   "source": [
    "class RemoveCorrelationTransformer2(BaseEstimator, TransformerMixin):\n",
    "    def __init__(self, correlation_threshold=0.7):\n",
    "        self.correlation_threshold = correlation_threshold\n",
    "\n",
    "\n",
    "    def fit(self, X, Y=None):\n",
    "        df = pd.DataFrame(X)\n",
    "        df_corr = df.corr(method='pearson', min_periods=1)\n",
    "        df_not_correlated = ~(df_corr.mask(\n",
    "            np.tril(np.ones([len(df_corr)] * 2, dtype=bool))).abs() > self.correlation_threshold).any()\n",
    "        self.un_corr_idx = df_not_correlated.loc[df_not_correlated[df_not_correlated.index] == True].index\n",
    "        return self\n",
    "\n",
    "    def transform(self, X, Y=None):\n",
    "        df = pd.DataFrame(X)\n",
    "        df = df[self.un_corr_idx]\n",
    "        return df.values"
   ]
  },
  {
   "cell_type": "code",
   "execution_count": 37,
   "metadata": {},
   "outputs": [],
   "source": [
    "\n",
    "class RemoveCorrelationTransformer(BaseEstimator, TransformerMixin):\n",
    "    def __init__(self, correlation_threshold=0.7, pca_components_ratio=3):\n",
    "        self.correlation_threshold = correlation_threshold\n",
    "        self.pca_components_ratio = pca_components_ratio\n",
    "\n",
    "\n",
    "    def fit(self, X, Y=None):\n",
    "        df = pd.DataFrame(X)\n",
    "        df_corr = df.corr(method='pearson')\n",
    "        df_corr = df_corr - np.eye(df.shape[1])\n",
    "        outliares_corr = df_corr[np.abs(df_corr) > self.correlation_threshold]\n",
    "        self.outliares_corr = outliares_corr.dropna(axis=1, how='all')\n",
    "\n",
    "        correlated_df = df[self.outliares_corr.columns]\n",
    "\n",
    "        n_components = len(self.outliares_corr.columns) // self.pca_components_ratio\n",
    "        pca = PCA(n_components=n_components)\n",
    "\n",
    "        correlated_df = pca.fit_transform(correlated_df)\n",
    "        self.correlated_df = pd.DataFrame(correlated_df, columns=[\"pca_{}\".format(i) for i in range(n_components)])\n",
    "\n",
    "        return self\n",
    "\n",
    "    def transform(self, X, Y=None):\n",
    "        df = pd.DataFrame(X)\n",
    "        print(self.outliares_corr.columns)\n",
    "        df = df.drop((self.outliares_corr.columns), axis=1)\n",
    "        df = df.join(self.correlated_df)\n",
    "        return df"
   ]
  },
  {
   "cell_type": "code",
   "execution_count": 38,
   "metadata": {},
   "outputs": [],
   "source": [
    "\n",
    "class RemoveMissingFeaturesTransformer(BaseEstimator, TransformerMixin):\n",
    "\n",
    "    def fit(self, X, Y=None):\n",
    "        self.is_missing = X.isnull().values.any(axis=0)\n",
    "        return self\n",
    "\n",
    "    def transform(self, X, Y=None):\n",
    "        copy_x = pd.DataFrame(X)\n",
    "        self.is_missing += copy_x.isnull().values.any(axis=0)\n",
    "\n",
    "        copy_x = copy_x.iloc[:, ~self.is_missing]\n",
    "\n",
    "        return copy_x.values\n"
   ]
  },
  {
   "cell_type": "code",
   "execution_count": 39,
   "metadata": {},
   "outputs": [],
   "source": [
    "def refactor_labels(df):\n",
    "    return df.replace({'low': 0 ,'high': 1, 'clinical': 1 })\n",
    "\n",
    "\n",
    "def get_data(file_name, LSAS_threshold=None):\n",
    "    group_column = 'group'\n",
    "    sub_num_col = 'Subject_Number'\n",
    "    lsas_col = 'LSAS'\n",
    "    df = pd.read_excel(file_name, sheet_name='Sheet1')\n",
    "    if LSAS_threshold is None:\n",
    "        X = df.drop([group_column, sub_num_col, lsas_col], 1)\n",
    "        Y = refactor_labels(df[group_column])\n",
    "        return X, Y\n",
    "    else:\n",
    "        \n",
    "        X = df.drop([group_column], 1)\n",
    "        Y = pd.Series(np.where(X[lsas_col] > LSAS_threshold, 1, 0))\n",
    "        X = X.drop([sub_num_col, lsas_col], 1)\n",
    "        return X, Y\n"
   ]
  },
  {
   "cell_type": "code",
   "execution_count": 40,
   "metadata": {},
   "outputs": [],
   "source": [
    "file_name = \"training_set_100.xlsx\"\n",
    "X_train, y_train = get_data(file_name, LSAS_threshold = 50)\n"
   ]
  },
  {
   "cell_type": "code",
   "execution_count": 41,
   "metadata": {},
   "outputs": [
    {
     "name": "stdout",
     "output_type": "stream",
     "text": [
      "['average_pupil_size_White_Space', 'STD_pupil_size_All', 'average_fixation_length_Neutral', 'average_fixation_length_White_Space', 'STD_fixation_length_All', 'average_pupil_size_Neutral', 'mean_different_AOI_per_trial', 'average_pupil_size_All', 'average_fixation_length_Disgusted', 'var_ratio_D_DN', 'avg_of_sum_fixation_length_Neutral', 'STD_fixation_length_White_Space']\n"
     ]
    },
    {
     "name": "stderr",
     "output_type": "stream",
     "text": [
      "C:\\Anaconda\\lib\\site-packages\\sklearn\\model_selection\\_search.py:841: DeprecationWarning: The default of the `iid` parameter will change from True to False in version 0.22 and will be removed in 0.24. This will change numeric results when test-set sizes are unequal.\n",
      "  DeprecationWarning)\n"
     ]
    },
    {
     "name": "stdout",
     "output_type": "stream",
     "text": [
      "________________\n",
      "best params\n",
      " {'classifier__learning_rate': 0.05, 'classifier__max_depth': 4, 'classifier__n_estimators': 75}\n",
      "\n",
      "best score\n",
      " 0.6333333333333333\n",
      "\n",
      "avg acc in train2 set\n",
      " 0.6666666666666666\n",
      "\n",
      "acc on holdout\n",
      " 0.8\n",
      "\n",
      "avg acc in train1 set\n",
      " 0.68\n",
      "['STD_pupil_size_All', 'var_ratio_D_DN', 'average_fixation_length_Disgusted', 'STD_fixation_length_White_Space', 'average_pupil_size_White_Space', 'STD_fixation_length_All', 'avg_of_sum_fixation_length_Neutral', 'mean_different_AOI_per_trial', 'average_fixation_length_Neutral', 'average_pupil_size_All', 'average_pupil_size_Neutral', 'average_fixation_length_White_Space']\n"
     ]
    },
    {
     "name": "stderr",
     "output_type": "stream",
     "text": [
      "C:\\Anaconda\\lib\\site-packages\\sklearn\\model_selection\\_search.py:841: DeprecationWarning: The default of the `iid` parameter will change from True to False in version 0.22 and will be removed in 0.24. This will change numeric results when test-set sizes are unequal.\n",
      "  DeprecationWarning)\n"
     ]
    },
    {
     "name": "stdout",
     "output_type": "stream",
     "text": [
      "________________\n",
      "best params\n",
      " {'classifier__learning_rate': 0.1, 'classifier__max_depth': 4, 'classifier__n_estimators': 75}\n",
      "\n",
      "best score\n",
      " 0.6222222222222222\n",
      "\n",
      "avg acc in train2 set\n",
      " 0.6\n",
      "\n",
      "acc on holdout\n",
      " 0.7\n",
      "\n",
      "avg acc in train1 set\n",
      " 0.63\n",
      "['STD_fixation_length_White_Space', 'var_ratio_D_DN', 'average_fixation_length_White_Space', 'average_pupil_size_Neutral', 'STD_fixation_length_All', 'average_pupil_size_White_Space', 'avg_of_sum_fixation_length_Neutral', 'average_fixation_length_Disgusted', 'average_pupil_size_All']\n"
     ]
    },
    {
     "name": "stderr",
     "output_type": "stream",
     "text": [
      "C:\\Anaconda\\lib\\site-packages\\sklearn\\model_selection\\_search.py:841: DeprecationWarning: The default of the `iid` parameter will change from True to False in version 0.22 and will be removed in 0.24. This will change numeric results when test-set sizes are unequal.\n",
      "  DeprecationWarning)\n"
     ]
    },
    {
     "name": "stdout",
     "output_type": "stream",
     "text": [
      "________________\n",
      "best params\n",
      " {'classifier__learning_rate': 0.15, 'classifier__max_depth': 2, 'classifier__n_estimators': 100}\n",
      "\n",
      "best score\n",
      " 0.6222222222222222\n",
      "\n",
      "avg acc in train2 set\n",
      " 0.6\n",
      "\n",
      "acc on holdout\n",
      " 0.4\n",
      "\n",
      "avg acc in train1 set\n",
      " 0.58\n",
      "['average_pupil_size_All', 'average_fixation_length_White_Space', 'STD_fixation_length_All', 'average_pupil_size_White_Space', 'average_fixation_length_Disgusted', 'avg_of_sum_fixation_length_Neutral', 'var_ratio_D_DN', 'average_pupil_size_Neutral', 'STD_fixation_length_White_Space']\n"
     ]
    },
    {
     "name": "stderr",
     "output_type": "stream",
     "text": [
      "C:\\Anaconda\\lib\\site-packages\\sklearn\\model_selection\\_search.py:841: DeprecationWarning: The default of the `iid` parameter will change from True to False in version 0.22 and will be removed in 0.24. This will change numeric results when test-set sizes are unequal.\n",
      "  DeprecationWarning)\n"
     ]
    },
    {
     "name": "stdout",
     "output_type": "stream",
     "text": [
      "________________\n",
      "best params\n",
      " {'classifier__learning_rate': 0.05, 'classifier__max_depth': 2, 'classifier__n_estimators': 200}\n",
      "\n",
      "best score\n",
      " 0.6\n",
      "\n",
      "avg acc in train2 set\n",
      " 0.5333333333333333\n",
      "\n",
      "acc on holdout\n",
      " 0.5\n",
      "\n",
      "avg acc in train1 set\n",
      " 0.54\n",
      "['avg_of_sum_fixation_length_Neutral', 'average_pupil_size_All', 'average_fixation_length_White_Space', 'STD_fixation_length_White_Space', 'var_ratio_D_DN', 'average_pupil_size_Neutral', 'STD_fixation_length_All', 'average_fixation_length_Disgusted', 'average_pupil_size_White_Space']\n"
     ]
    },
    {
     "name": "stderr",
     "output_type": "stream",
     "text": [
      "C:\\Anaconda\\lib\\site-packages\\sklearn\\model_selection\\_search.py:841: DeprecationWarning: The default of the `iid` parameter will change from True to False in version 0.22 and will be removed in 0.24. This will change numeric results when test-set sizes are unequal.\n",
      "  DeprecationWarning)\n"
     ]
    },
    {
     "name": "stdout",
     "output_type": "stream",
     "text": [
      "________________\n",
      "best params\n",
      " {'classifier__learning_rate': 0.15, 'classifier__max_depth': 4, 'classifier__n_estimators': 200}\n",
      "\n",
      "best score\n",
      " 0.6\n",
      "\n",
      "avg acc in train2 set\n",
      " 0.6222222222222222\n",
      "\n",
      "acc on holdout\n",
      " 0.5\n",
      "\n",
      "avg acc in train1 set\n",
      " 0.55\n",
      "['avg_of_sum_fixation_length_Neutral', 'average_pupil_size_White_Space', 'STD_fixation_length_All', 'average_fixation_length_White_Space', 'var_ratio_D_DN', 'average_fixation_length_Disgusted', 'average_pupil_size_All', 'average_pupil_size_Neutral', 'STD_fixation_length_White_Space']\n"
     ]
    },
    {
     "name": "stderr",
     "output_type": "stream",
     "text": [
      "C:\\Anaconda\\lib\\site-packages\\sklearn\\model_selection\\_search.py:841: DeprecationWarning: The default of the `iid` parameter will change from True to False in version 0.22 and will be removed in 0.24. This will change numeric results when test-set sizes are unequal.\n",
      "  DeprecationWarning)\n"
     ]
    },
    {
     "name": "stdout",
     "output_type": "stream",
     "text": [
      "________________\n",
      "best params\n",
      " {'classifier__learning_rate': 0.1, 'classifier__max_depth': 4, 'classifier__n_estimators': 75}\n",
      "\n",
      "best score\n",
      " 0.6444444444444445\n",
      "\n",
      "avg acc in train2 set\n",
      " 0.6444444444444445\n",
      "\n",
      "acc on holdout\n",
      " 0.4\n",
      "\n",
      "avg acc in train1 set\n",
      " 0.51\n",
      "['average_fixation_length_Disgusted', 'average_pupil_size_All', 'avg_of_sum_fixation_length_Neutral', 'average_fixation_length_White_Space', 'STD_fixation_length_All', 'average_pupil_size_Neutral', 'STD_fixation_length_White_Space', 'var_ratio_D_DN']\n"
     ]
    },
    {
     "name": "stderr",
     "output_type": "stream",
     "text": [
      "C:\\Anaconda\\lib\\site-packages\\sklearn\\model_selection\\_search.py:841: DeprecationWarning: The default of the `iid` parameter will change from True to False in version 0.22 and will be removed in 0.24. This will change numeric results when test-set sizes are unequal.\n",
      "  DeprecationWarning)\n"
     ]
    },
    {
     "name": "stdout",
     "output_type": "stream",
     "text": [
      "________________\n",
      "best params\n",
      " {'classifier__learning_rate': 0.05, 'classifier__max_depth': 2, 'classifier__n_estimators': 75}\n",
      "\n",
      "best score\n",
      " 0.6\n",
      "\n",
      "avg acc in train2 set\n",
      " 0.5666666666666667\n",
      "\n",
      "acc on holdout\n",
      " 0.4\n",
      "\n",
      "avg acc in train1 set\n",
      " 0.55\n",
      "['average_fixation_length_Disgusted', 'STD_fixation_length_White_Space', 'average_fixation_length_White_Space', 'average_pupil_size_Neutral', 'average_pupil_size_All', 'var_ratio_D_DN', 'avg_of_sum_fixation_length_Neutral', 'STD_fixation_length_All']\n"
     ]
    },
    {
     "name": "stderr",
     "output_type": "stream",
     "text": [
      "C:\\Anaconda\\lib\\site-packages\\sklearn\\model_selection\\_search.py:841: DeprecationWarning: The default of the `iid` parameter will change from True to False in version 0.22 and will be removed in 0.24. This will change numeric results when test-set sizes are unequal.\n",
      "  DeprecationWarning)\n"
     ]
    },
    {
     "name": "stdout",
     "output_type": "stream",
     "text": [
      "________________\n",
      "best params\n",
      " {'classifier__learning_rate': 0.15, 'classifier__max_depth': 4, 'classifier__n_estimators': 200}\n",
      "\n",
      "best score\n",
      " 0.6444444444444445\n",
      "\n",
      "avg acc in train2 set\n",
      " 0.6222222222222222\n",
      "\n",
      "acc on holdout\n",
      " 0.6\n",
      "\n",
      "avg acc in train1 set\n",
      " 0.6\n",
      "['STD_fixation_length_White_Space', 'avg_of_sum_fixation_length_Neutral', 'var_ratio_D_DN', 'average_fixation_length_White_Space', 'STD_fixation_length_All', 'average_pupil_size_All', 'average_fixation_length_Disgusted', 'average_pupil_size_Neutral']\n"
     ]
    },
    {
     "name": "stderr",
     "output_type": "stream",
     "text": [
      "C:\\Anaconda\\lib\\site-packages\\sklearn\\model_selection\\_search.py:841: DeprecationWarning: The default of the `iid` parameter will change from True to False in version 0.22 and will be removed in 0.24. This will change numeric results when test-set sizes are unequal.\n",
      "  DeprecationWarning)\n"
     ]
    },
    {
     "name": "stdout",
     "output_type": "stream",
     "text": [
      "________________\n",
      "best params\n",
      " {'classifier__learning_rate': 0.15, 'classifier__max_depth': 2, 'classifier__n_estimators': 200}\n",
      "\n",
      "best score\n",
      " 0.6888888888888889\n",
      "\n",
      "avg acc in train2 set\n",
      " 0.6222222222222222\n",
      "\n",
      "acc on holdout\n",
      " 0.7\n",
      "\n",
      "avg acc in train1 set\n",
      " 0.59\n",
      "['average_pupil_size_All', 'STD_fixation_length_All', 'average_fixation_length_White_Space', 'average_pupil_size_Neutral', 'avg_of_sum_fixation_length_Neutral', 'STD_fixation_length_White_Space', 'var_ratio_D_DN', 'average_fixation_length_Disgusted']\n"
     ]
    },
    {
     "name": "stderr",
     "output_type": "stream",
     "text": [
      "C:\\Anaconda\\lib\\site-packages\\sklearn\\model_selection\\_search.py:841: DeprecationWarning: The default of the `iid` parameter will change from True to False in version 0.22 and will be removed in 0.24. This will change numeric results when test-set sizes are unequal.\n",
      "  DeprecationWarning)\n"
     ]
    },
    {
     "name": "stdout",
     "output_type": "stream",
     "text": [
      "________________\n",
      "best params\n",
      " {'classifier__learning_rate': 0.05, 'classifier__max_depth': 4, 'classifier__n_estimators': 75}\n",
      "\n",
      "best score\n",
      " 0.5666666666666667\n",
      "\n",
      "avg acc in train2 set\n",
      " 0.5444444444444444\n",
      "\n",
      "acc on holdout\n",
      " 0.6\n",
      "\n",
      "avg acc in train1 set\n",
      " 0.56\n"
     ]
    }
   ],
   "source": [
    "for i in range(10):\n",
    "    \n",
    "    amount_features = random.randint(8, 16)\n",
    "\n",
    "    #which features to take\n",
    "\n",
    "    columns_shuffled = list(X_train.columns)\n",
    "    random.shuffle(columns_shuffled)\n",
    "    print(columns_shuffled[:amount_features])\n",
    "\n",
    "    \n",
    "    X_train = X_train[columns_shuffled[:amount_features]]\n",
    "    \n",
    "    X_train_2, X_test_2, y_train_2, y_test_2 = train_test_split(X_train, y_train, test_size = 0.1, stratify=y_train)\n",
    "    \n",
    "    \n",
    "    pipe =  Pipeline([\n",
    "    ('correlation_threshold', RemoveCorrelationTransformer2()), \n",
    "    ('classifier', XGBClassifier())])\n",
    "    \n",
    "    params_grid = [\n",
    "    {\n",
    "    \n",
    "        'classifier__max_depth': [4, 2],\n",
    "        'classifier__learning_rate': [0.1, 0.05, 0.15],\n",
    "        'classifier__n_estimators': [75, 200, 100]}] \n",
    "    \n",
    "    \n",
    "    \n",
    "    cv = StratifiedKFold(10)\n",
    "    gs = GridSearchCV(pipe, params_grid, cv=cv, scoring='accuracy')\n",
    "    gs.fit(X_train_2, y_train_2);\n",
    "\n",
    "\n",
    "    print(\"________________\\nbest params\\n\",gs.best_params_)\n",
    "    print(\"\\nbest score\\n\",gs.best_score_)\n",
    "\n",
    "    results = []\n",
    "    k = 5\n",
    "    for i in range(k):\n",
    "        loo = LeaveOneOut()\n",
    "        score = cross_val_score(gs.best_estimator_, X_train_2, y_train_2, cv=loo)\n",
    "        results.append(score.mean())\n",
    "    print(\"\\navg acc in train2 set\\n\",sum(results)/k)\n",
    "\n",
    "    model = gs.best_estimator_.fit(X_train_2, y_train_2)\n",
    "    y_pred = model.predict(X_test_2)\n",
    "    print (\"\\nacc on holdout\\n\", accuracy_score(y_pred, y_test_2))\n",
    "    \n",
    "    results = []\n",
    "    k = 5\n",
    "    for i in range(k):\n",
    "        loo = LeaveOneOut()\n",
    "        score = cross_val_score(gs.best_estimator_, X_train, y_train, cv=loo)\n",
    "        results.append(score.mean())\n",
    "    print(\"\\navg acc in train1 set\\n\",sum(results)/k)\n",
    "    "
   ]
  },
  {
   "cell_type": "code",
   "execution_count": 42,
   "metadata": {},
   "outputs": [
    {
     "data": {
      "text/plain": [
       "array([0.2, 0.5, 0.8])"
      ]
     },
     "execution_count": 42,
     "metadata": {},
     "output_type": "execute_result"
    }
   ],
   "source": [
    "np.arange(0.2,1, 0.3)"
   ]
  },
  {
   "cell_type": "code",
   "execution_count": null,
   "metadata": {},
   "outputs": [],
   "source": [
    " np.arange(0.2,0.9, 0.3)"
   ]
  },
  {
   "cell_type": "code",
   "execution_count": null,
   "metadata": {},
   "outputs": [],
   "source": []
  }
 ],
 "metadata": {
  "kernelspec": {
   "display_name": "Python 3",
   "language": "python",
   "name": "python3"
  },
  "language_info": {
   "codemirror_mode": {
    "name": "ipython",
    "version": 3
   },
   "file_extension": ".py",
   "mimetype": "text/x-python",
   "name": "python",
   "nbconvert_exporter": "python",
   "pygments_lexer": "ipython3",
   "version": "3.6.8"
  }
 },
 "nbformat": 4,
 "nbformat_minor": 2
}
