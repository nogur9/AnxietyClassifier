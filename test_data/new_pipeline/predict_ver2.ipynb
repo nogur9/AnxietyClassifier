{
 "cells": [
  {
   "cell_type": "code",
   "execution_count": 7,
   "metadata": {},
   "outputs": [],
   "source": [
    "import pickle\n",
    "from sklearn.base import BaseEstimator, TransformerMixin\n",
    "from sklearn.feature_selection import RFE\n",
    "from xgboost import XGBClassifier\n",
    "from sklearn.metrics import accuracy_score\n",
    "import pandas as pd\n",
    "import numpy as np\n",
    "import random\n",
    "from sklearn.pipeline import Pipeline\n",
    "from xgboost import XGBClassifier\n",
    "\n",
    "from sklearn.ensemble import RandomForestClassifier, GradientBoostingClassifier"
   ]
  },
  {
   "cell_type": "markdown",
   "metadata": {},
   "source": [
    "## functions"
   ]
  },
  {
   "cell_type": "code",
   "execution_count": 8,
   "metadata": {},
   "outputs": [],
   "source": [
    "class RemoveCorrelationTransformer(BaseEstimator, TransformerMixin):\n",
    "    def __init__(self, correlation_threshold=0.7):\n",
    "        self.correlation_threshold = correlation_threshold\n",
    "\n",
    "\n",
    "    def fit(self, X, Y=None):\n",
    "        df = pd.DataFrame(X)\n",
    "        df_corr = df.corr(method='pearson', min_periods=1)\n",
    "        df_not_correlated = ~(df_corr.mask(\n",
    "            np.tril(np.ones([len(df_corr)] * 2, dtype=bool))).abs() > self.correlation_threshold).any()\n",
    "        self.un_corr_idx = df_not_correlated.loc[df_not_correlated[df_not_correlated.index] == True].index\n",
    "        return self\n",
    "\n",
    "    def transform(self, X, Y=None):\n",
    "        df = pd.DataFrame(X)\n",
    "        df = df[self.un_corr_idx]\n",
    "        return df.values"
   ]
  },
  {
   "cell_type": "code",
   "execution_count": 9,
   "metadata": {},
   "outputs": [],
   "source": [
    "def refactor_labels(df):\n",
    "    return df.replace({'low': 0 ,'high': 1, 'clinical': 1 })\n",
    "\n",
    "\n",
    "def get_data(file_name, LSAS_threshold=None):\n",
    "    group_column = 'group'\n",
    "    sub_num_col = 'Subject_Number'\n",
    "    lsas_col = 'LSAS'\n",
    "    df = pd.read_excel(file_name, sheet_name='Sheet1')\n",
    "    if LSAS_threshold is None:\n",
    "        X = df.drop([group_column, sub_num_col, lsas_col], 1)\n",
    "        Y = refactor_labels(df[group_column])\n",
    "        return X, Y\n",
    "    else:\n",
    "        X = df.drop([group_column], 1)\n",
    "        Y = pd.Series(np.where(X[lsas_col] > LSAS_threshold, 1, 0))\n",
    "        X = X.drop([sub_num_col, lsas_col], 1)\n",
    "        return X, Y\n"
   ]
  },
  {
   "attachments": {
    "image.png": {
     "image/png": "[encoded data removed]"
    }
   },
   "cell_type": "markdown",
   "metadata": {},
   "source": [
    "## the model\n",
    "![image.png](attachment:image.png)"
   ]
  },
  {
   "cell_type": "markdown",
   "metadata": {},
   "source": [
    "## threshold 50"
   ]
  },
  {
   "cell_type": "code",
   "execution_count": 10,
   "metadata": {},
   "outputs": [],
   "source": [
    "test = pd.read_excel(\"test_set_updated.xlsx\")\n",
    "file_name = \"training_set_100_updated.xlsx\"\n",
    "X_full_training_set, y_full_training_set = get_data(file_name, LSAS_threshold = 50)\n",
    "random.seed(217828)\n",
    "columns_shuffled = list(X_full_training_set.columns)\n",
    "random.shuffle(columns_shuffled)\n",
    "X_full_training_set = X_full_training_set[columns_shuffled] \n",
    "X_test = test[columns_shuffled]"
   ]
  },
  {
   "cell_type": "code",
   "execution_count": 11,
   "metadata": {},
   "outputs": [],
   "source": [
    "pipe =  Pipeline([\n",
    "    ('correlation_threshold', RemoveCorrelationTransformer(correlation_threshold = 0.8)), \n",
    "    ('classifier', XGBClassifier(gamma =0.75, colsample_bytree=0.85, max_depth= 2, reg_alpha=0.8,\n",
    "        reg_lambda=0.0 ,learning_rate=0.01, n_estimators=700))])"
   ]
  },
  {
   "cell_type": "code",
   "execution_count": 12,
   "metadata": {},
   "outputs": [
    {
     "name": "stdout",
     "output_type": "stream",
     "text": [
      "(8039, 1)\n",
      "(5009, 0)\n",
      "(5022, 0)\n",
      "(5030, 0)\n",
      "(5031, 1)\n",
      "(5032, 0)\n",
      "(5033, 1)\n",
      "(5035, 0)\n",
      "(5036, 1)\n",
      "(5037, 0)\n",
      "(5039, 0)\n",
      "(5042, 0)\n",
      "(5043, 0)\n",
      "(5044, 1)\n",
      "(5045, 1)\n",
      "(5046, 0)\n",
      "(5047, 0)\n",
      "(5049, 0)\n",
      "(5050, 1)\n",
      "(5052, 1)\n",
      "(5053, 0)\n",
      "(5054, 1)\n",
      "(203, 0)\n",
      "(304, 1)\n",
      "(312, 0)\n",
      "(314, 0)\n",
      "(315, 1)\n",
      "(345, 1)\n",
      "(9004, 1)\n",
      "(9027, 1)\n"
     ]
    }
   ],
   "source": [
    "model = pipe.fit(X_full_training_set, y_full_training_set)\n",
    "y_pred = model.predict(X_test)\n",
    "for i in zip (test['Subject_Number'], y_pred):\n",
    "    print(i)"
   ]
  },
  {
   "cell_type": "markdown",
   "metadata": {},
   "source": [
    "## threshold 63"
   ]
  },
  {
   "cell_type": "code",
   "execution_count": 17,
   "metadata": {},
   "outputs": [],
   "source": [
    "test = pd.read_excel(\"test_set_updated.xlsx\")\n",
    "file_name = \"training_set_100_updated.xlsx\"\n",
    "X_full_training_set, y_full_training_set = get_data(file_name, LSAS_threshold = 63)\n",
    "random.seed(217828)\n",
    "columns_shuffled = list(X_full_training_set.columns)\n",
    "random.shuffle(columns_shuffled)\n",
    "X_full_training_set = X_full_training_set[columns_shuffled] \n",
    "X_test = test[columns_shuffled]"
   ]
  },
  {
   "cell_type": "code",
   "execution_count": 18,
   "metadata": {},
   "outputs": [],
   "source": [
    "\n",
    "pipe =  Pipeline([\n",
    "    ('correlation_threshold', RemoveCorrelationTransformer(correlation_threshold = 0.7)), \n",
    "    ('rfc', RFE(RandomForestClassifier(n_estimators = 100), n_features_to_select = 11)),\n",
    "    ('classifier', GradientBoostingClassifier( max_depth=6, n_estimators=400, learning_rate = 0.05))])\n"
   ]
  },
  {
   "cell_type": "code",
   "execution_count": 19,
   "metadata": {},
   "outputs": [
    {
     "name": "stdout",
     "output_type": "stream",
     "text": [
      "(8039, 0)\n",
      "(5009, 0)\n",
      "(5022, 0)\n",
      "(5030, 0)\n",
      "(5031, 1)\n",
      "(5032, 0)\n",
      "(5033, 0)\n",
      "(5035, 0)\n",
      "(5036, 0)\n",
      "(5037, 1)\n",
      "(5039, 0)\n",
      "(5042, 0)\n",
      "(5043, 0)\n",
      "(5044, 1)\n",
      "(5045, 1)\n",
      "(5046, 0)\n",
      "(5047, 0)\n",
      "(5049, 0)\n",
      "(5050, 0)\n",
      "(5052, 0)\n",
      "(5053, 0)\n",
      "(5054, 0)\n",
      "(203, 0)\n",
      "(304, 0)\n",
      "(312, 1)\n",
      "(314, 0)\n",
      "(315, 1)\n",
      "(345, 1)\n",
      "(9004, 1)\n",
      "(9027, 0)\n"
     ]
    }
   ],
   "source": [
    "model = pipe.fit(X_full_training_set, y_full_training_set)\n",
    "y_pred = model.predict(X_test)\n",
    "for i in zip (test['Subject_Number'], y_pred):\n",
    "    print(i)"
   ]
  },
  {
   "cell_type": "code",
   "execution_count": null,
   "metadata": {},
   "outputs": [],
   "source": []
  }
 ],
 "metadata": {
  "kernelspec": {
   "display_name": "Python 3",
   "language": "python",
   "name": "python3"
  },
  "language_info": {
   "codemirror_mode": {
    "name": "ipython",
    "version": 3
   },
   "file_extension": ".py",
   "mimetype": "text/x-python",
   "name": "python",
   "nbconvert_exporter": "python",
   "pygments_lexer": "ipython3",
   "version": "3.7.1"
  }
 },
 "nbformat": 4,
 "nbformat_minor": 2
}
