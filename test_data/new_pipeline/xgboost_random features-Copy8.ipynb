{
 "cells": [
  {
   "cell_type": "code",
   "execution_count": 1,
   "metadata": {},
   "outputs": [],
   "source": [
    "from sklearn.base import BaseEstimator, TransformerMixin\n",
    "import numpy as np\n",
    "import pandas as pd\n",
    "from sklearn.decomposition import PCA\n",
    "import pandas as pd\n",
    "import os\n",
    "import numpy as np\n",
    "from sklearn.feature_selection import RFE\n",
    "from sklearn.ensemble import RandomForestClassifier, GradientBoostingClassifier, AdaBoostClassifier\n",
    "from sklearn.svm import SVC\n",
    "from sklearn.pipeline import Pipeline\n",
    "from sklearn.preprocessing import MinMaxScaler\n",
    "from sklearn.model_selection import StratifiedKFold, GridSearchCV, train_test_split, cross_val_score\n",
    "from sklearn.tree import DecisionTreeClassifier\n",
    "from sklearn.linear_model import LogisticRegression\n",
    "from sklearn.neighbors import KNeighborsClassifier\n",
    "from sklearn.naive_bayes import GaussianNB\n",
    "from sklearn.model_selection import LeaveOneOut\n",
    "from imblearn.over_sampling import SMOTE, ADASYN\n",
    "#from imblearn.pipeline import Pipeline\n",
    "from xgboost import XGBClassifier\n",
    "from sklearn.metrics import accuracy_score\n",
    "import random"
   ]
  },
  {
   "cell_type": "code",
   "execution_count": 2,
   "metadata": {},
   "outputs": [],
   "source": [
    "class RemoveCorrelationTransformer2(BaseEstimator, TransformerMixin):\n",
    "    def __init__(self, correlation_threshold=0.7):\n",
    "        self.correlation_threshold = correlation_threshold\n",
    "\n",
    "\n",
    "    def fit(self, X, Y=None):\n",
    "        df = pd.DataFrame(X)\n",
    "        df_corr = df.corr(method='pearson', min_periods=1)\n",
    "        df_not_correlated = ~(df_corr.mask(\n",
    "            np.tril(np.ones([len(df_corr)] * 2, dtype=bool))).abs() > self.correlation_threshold).any()\n",
    "        self.un_corr_idx = df_not_correlated.loc[df_not_correlated[df_not_correlated.index] == True].index\n",
    "        return self\n",
    "\n",
    "    def transform(self, X, Y=None):\n",
    "        df = pd.DataFrame(X)\n",
    "        df = df[self.un_corr_idx]\n",
    "        return df.values"
   ]
  },
  {
   "cell_type": "code",
   "execution_count": 3,
   "metadata": {},
   "outputs": [],
   "source": [
    "\n",
    "class RemoveCorrelationTransformer(BaseEstimator, TransformerMixin):\n",
    "    def __init__(self, correlation_threshold=0.7, pca_components_ratio=3):\n",
    "        self.correlation_threshold = correlation_threshold\n",
    "        self.pca_components_ratio = pca_components_ratio\n",
    "\n",
    "\n",
    "    def fit(self, X, Y=None):\n",
    "        df = pd.DataFrame(X)\n",
    "        df_corr = df.corr(method='pearson')\n",
    "        df_corr = df_corr - np.eye(df.shape[1])\n",
    "        outliares_corr = df_corr[np.abs(df_corr) > self.correlation_threshold]\n",
    "        self.outliares_corr = outliares_corr.dropna(axis=1, how='all')\n",
    "\n",
    "        correlated_df = df[self.outliares_corr.columns]\n",
    "\n",
    "        n_components = len(self.outliares_corr.columns) // self.pca_components_ratio\n",
    "        pca = PCA(n_components=n_components)\n",
    "\n",
    "        correlated_df = pca.fit_transform(correlated_df)\n",
    "        self.correlated_df = pd.DataFrame(correlated_df, columns=[\"pca_{}\".format(i) for i in range(n_components)])\n",
    "\n",
    "        return self\n",
    "\n",
    "    def transform(self, X, Y=None):\n",
    "        df = pd.DataFrame(X)\n",
    "        print(self.outliares_corr.columns)\n",
    "        df = df.drop((self.outliares_corr.columns), axis=1)\n",
    "        df = df.join(self.correlated_df)\n",
    "        return df"
   ]
  },
  {
   "cell_type": "code",
   "execution_count": 4,
   "metadata": {},
   "outputs": [],
   "source": [
    "\n",
    "class RemoveMissingFeaturesTransformer(BaseEstimator, TransformerMixin):\n",
    "\n",
    "    def fit(self, X, Y=None):\n",
    "        self.is_missing = X.isnull().values.any(axis=0)\n",
    "        return self\n",
    "\n",
    "    def transform(self, X, Y=None):\n",
    "        copy_x = pd.DataFrame(X)\n",
    "        self.is_missing += copy_x.isnull().values.any(axis=0)\n",
    "\n",
    "        copy_x = copy_x.iloc[:, ~self.is_missing]\n",
    "\n",
    "        return copy_x.values\n"
   ]
  },
  {
   "cell_type": "code",
   "execution_count": 5,
   "metadata": {},
   "outputs": [],
   "source": [
    "def refactor_labels(df):\n",
    "    return df.replace({'low': 0 ,'high': 1, 'clinical': 1 })\n",
    "\n",
    "\n",
    "def get_data(file_name, LSAS_threshold=None):\n",
    "    group_column = 'group'\n",
    "    sub_num_col = 'Subject_Number'\n",
    "    lsas_col = 'LSAS'\n",
    "    \n",
    "#     corr_remove = ['STD_fixation_length_Disgusted', 'average_pupil_size_All',\n",
    "#        'STD_pupil_size_Disgusted', 'STD_pupil_size_White_Space',\n",
    "#        'average_pupil_size_Disgusted', 'average_pupil_size_Neutral',\n",
    "#        'Ratio D/D+N', 'STD_fixation_length_Neutral', 'STD_pupil_size_All',\n",
    "#        'average_pupil_size_White_Space',\n",
    "#        'avg_of_sum_fixation_length_White_Space']\n",
    "    \n",
    "    df = pd.read_excel(file_name, sheet_name='Sheet1')\n",
    "    if LSAS_threshold is None:\n",
    "        X = df.drop([group_column, sub_num_col, lsas_col], 1)\n",
    "        Y = refactor_labels(df[group_column])\n",
    "        return X, Y\n",
    "    else:\n",
    "        \n",
    "        X = df.drop([group_column], 1)\n",
    "        Y = pd.Series(np.where(X[lsas_col] > LSAS_threshold, 1, 0))\n",
    "        X = X.drop([sub_num_col, lsas_col], 1)\n",
    "        return X, Y\n"
   ]
  },
  {
   "cell_type": "code",
   "execution_count": 6,
   "metadata": {},
   "outputs": [],
   "source": [
    "file_name = \"training_set_100.xlsx\"\n",
    "X_train, y_train = get_data(file_name, LSAS_threshold = 50)\n",
    "\n"
   ]
  },
  {
   "cell_type": "code",
   "execution_count": 7,
   "metadata": {},
   "outputs": [
    {
     "name": "stdout",
     "output_type": "stream",
     "text": [
      "\n",
      "amount_features 10\n",
      "['STD_pupil_size_White_Space', 'Ratio D/D+N', 'STD_fixation_length_Disgusted', 'avg_of_amount_fixation_White_Space', 'STD_pupil_size_Disgusted', 'avg_of_amount_fixation_Neutral', 'avg_of_sum_fixation_length_White_Space', 'avg_of_sum_fixation_length_Neutral', 'STD_pupil_size_All', 'average_fixation_length_Disgusted']\n"
     ]
    },
    {
     "name": "stderr",
     "output_type": "stream",
     "text": [
      "C:\\Anaconda\\lib\\site-packages\\sklearn\\model_selection\\_search.py:841: DeprecationWarning: The default of the `iid` parameter will change from True to False in version 0.22 and will be removed in 0.24. This will change numeric results when test-set sizes are unequal.\n",
      "  DeprecationWarning)\n"
     ]
    },
    {
     "name": "stdout",
     "output_type": "stream",
     "text": [
      "________________\n",
      "best params\n",
      " {'classifier__learning_rate': 0.1, 'classifier__max_depth': 5, 'classifier__n_estimators': 150}\n",
      "\n",
      "best score\n",
      " 0.6222222222222222\n",
      "avg acc in train2 set\n",
      " 0.6466666666666666\n",
      "acc on holdout\n",
      " 0.5\n",
      "avg acc in train1 set\n",
      " 0.6006666666666667 \n",
      "\n",
      "\n",
      "amount_features 10\n",
      "['average_fixation_length_Disgusted', 'Ratio D/D+N', 'STD_fixation_length_Disgusted', 'avg_of_sum_fixation_length_Neutral', 'avg_of_amount_fixation_White_Space', 'STD_pupil_size_All', 'avg_of_sum_fixation_length_White_Space', 'STD_pupil_size_Disgusted', 'avg_of_amount_fixation_Neutral', 'STD_pupil_size_White_Space']\n"
     ]
    },
    {
     "name": "stderr",
     "output_type": "stream",
     "text": [
      "C:\\Anaconda\\lib\\site-packages\\sklearn\\model_selection\\_search.py:841: DeprecationWarning: The default of the `iid` parameter will change from True to False in version 0.22 and will be removed in 0.24. This will change numeric results when test-set sizes are unequal.\n",
      "  DeprecationWarning)\n"
     ]
    },
    {
     "name": "stdout",
     "output_type": "stream",
     "text": [
      "________________\n",
      "best params\n",
      " {'classifier__learning_rate': 0.15, 'classifier__max_depth': 7, 'classifier__n_estimators': 150}\n",
      "\n",
      "best score\n",
      " 0.6666666666666666\n",
      "avg acc in train2 set\n",
      " 0.591111111111111\n",
      "acc on holdout\n",
      " 0.6\n",
      "avg acc in train1 set\n",
      " 0.5686666666666668 \n",
      "\n",
      "\n",
      "amount_features 10\n",
      "['Ratio D/D+N', 'avg_of_amount_fixation_White_Space', 'average_fixation_length_Disgusted', 'STD_pupil_size_Disgusted', 'STD_fixation_length_Disgusted', 'avg_of_amount_fixation_Neutral', 'STD_pupil_size_White_Space', 'STD_pupil_size_All', 'avg_of_sum_fixation_length_Neutral', 'avg_of_sum_fixation_length_White_Space']\n"
     ]
    },
    {
     "name": "stderr",
     "output_type": "stream",
     "text": [
      "C:\\Anaconda\\lib\\site-packages\\sklearn\\model_selection\\_search.py:841: DeprecationWarning: The default of the `iid` parameter will change from True to False in version 0.22 and will be removed in 0.24. This will change numeric results when test-set sizes are unequal.\n",
      "  DeprecationWarning)\n"
     ]
    },
    {
     "name": "stdout",
     "output_type": "stream",
     "text": [
      "________________\n",
      "best params\n",
      " {'classifier__learning_rate': 0.2, 'classifier__max_depth': 3, 'classifier__n_estimators': 200}\n",
      "\n",
      "best score\n",
      " 0.6444444444444445\n",
      "avg acc in train2 set\n",
      " 0.5488888888888889\n",
      "acc on holdout\n",
      " 0.4\n",
      "avg acc in train1 set\n",
      " 0.5893333333333332 \n",
      "\n",
      "\n",
      "amount_features 10\n",
      "['STD_pupil_size_Disgusted', 'avg_of_sum_fixation_length_Neutral', 'avg_of_sum_fixation_length_White_Space', 'STD_fixation_length_Disgusted', 'avg_of_amount_fixation_Neutral', 'STD_pupil_size_All', 'avg_of_amount_fixation_White_Space', 'STD_pupil_size_White_Space', 'average_fixation_length_Disgusted', 'Ratio D/D+N']\n"
     ]
    },
    {
     "name": "stderr",
     "output_type": "stream",
     "text": [
      "C:\\Anaconda\\lib\\site-packages\\sklearn\\model_selection\\_search.py:841: DeprecationWarning: The default of the `iid` parameter will change from True to False in version 0.22 and will be removed in 0.24. This will change numeric results when test-set sizes are unequal.\n",
      "  DeprecationWarning)\n"
     ]
    },
    {
     "name": "stdout",
     "output_type": "stream",
     "text": [
      "________________\n",
      "best params\n",
      " {'classifier__learning_rate': 0.05, 'classifier__max_depth': 7, 'classifier__n_estimators': 75}\n",
      "\n",
      "best score\n",
      " 0.6222222222222222\n",
      "avg acc in train2 set\n",
      " 0.5259259259259259\n",
      "acc on holdout\n",
      " 0.8\n",
      "avg acc in train1 set\n",
      " 0.6226666666666667 \n",
      "\n",
      "\n",
      "amount_features 10\n",
      "['avg_of_sum_fixation_length_Neutral', 'STD_pupil_size_White_Space', 'avg_of_sum_fixation_length_White_Space', 'avg_of_amount_fixation_White_Space', 'STD_fixation_length_Disgusted', 'STD_pupil_size_Disgusted', 'STD_pupil_size_All', 'Ratio D/D+N', 'average_fixation_length_Disgusted', 'avg_of_amount_fixation_Neutral']\n"
     ]
    },
    {
     "name": "stderr",
     "output_type": "stream",
     "text": [
      "C:\\Anaconda\\lib\\site-packages\\sklearn\\model_selection\\_search.py:841: DeprecationWarning: The default of the `iid` parameter will change from True to False in version 0.22 and will be removed in 0.24. This will change numeric results when test-set sizes are unequal.\n",
      "  DeprecationWarning)\n"
     ]
    },
    {
     "name": "stdout",
     "output_type": "stream",
     "text": [
      "________________\n",
      "best params\n",
      " {'classifier__learning_rate': 0.1, 'classifier__max_depth': 5, 'classifier__n_estimators': 75}\n",
      "\n",
      "best score\n",
      " 0.6666666666666666\n",
      "avg acc in train2 set\n",
      " 0.5918518518518517\n",
      "acc on holdout\n",
      " 0.5\n",
      "avg acc in train1 set\n",
      " 0.5986666666666665 \n",
      "\n",
      "\n",
      "amount_features 10\n",
      "['STD_pupil_size_All', 'Ratio D/D+N', 'STD_pupil_size_Disgusted', 'average_fixation_length_Disgusted', 'STD_pupil_size_White_Space', 'avg_of_sum_fixation_length_White_Space', 'avg_of_sum_fixation_length_Neutral', 'STD_fixation_length_Disgusted', 'avg_of_amount_fixation_White_Space', 'avg_of_amount_fixation_Neutral']\n"
     ]
    },
    {
     "name": "stderr",
     "output_type": "stream",
     "text": [
      "C:\\Anaconda\\lib\\site-packages\\sklearn\\model_selection\\_search.py:841: DeprecationWarning: The default of the `iid` parameter will change from True to False in version 0.22 and will be removed in 0.24. This will change numeric results when test-set sizes are unequal.\n",
      "  DeprecationWarning)\n"
     ]
    },
    {
     "name": "stdout",
     "output_type": "stream",
     "text": [
      "________________\n",
      "best params\n",
      " {'classifier__learning_rate': 0.1, 'classifier__max_depth': 4, 'classifier__n_estimators': 200}\n",
      "\n",
      "best score\n",
      " 0.7\n",
      "avg acc in train2 set\n",
      " 0.5874074074074073\n",
      "acc on holdout\n",
      " 0.2\n",
      "avg acc in train1 set\n",
      " 0.6046666666666666 \n",
      "\n",
      "\n",
      "amount_features 10\n",
      "['avg_of_sum_fixation_length_White_Space', 'STD_pupil_size_All', 'Ratio D/D+N', 'STD_pupil_size_Disgusted', 'avg_of_sum_fixation_length_Neutral', 'STD_pupil_size_White_Space', 'STD_fixation_length_Disgusted', 'avg_of_amount_fixation_White_Space', 'average_fixation_length_Disgusted', 'avg_of_amount_fixation_Neutral']\n"
     ]
    },
    {
     "name": "stderr",
     "output_type": "stream",
     "text": [
      "C:\\Anaconda\\lib\\site-packages\\sklearn\\model_selection\\_search.py:841: DeprecationWarning: The default of the `iid` parameter will change from True to False in version 0.22 and will be removed in 0.24. This will change numeric results when test-set sizes are unequal.\n",
      "  DeprecationWarning)\n"
     ]
    },
    {
     "name": "stdout",
     "output_type": "stream",
     "text": [
      "________________\n",
      "best params\n",
      " {'classifier__learning_rate': 0.1, 'classifier__max_depth': 5, 'classifier__n_estimators': 200}\n",
      "\n",
      "best score\n",
      " 0.6888888888888889\n",
      "avg acc in train2 set\n",
      " 0.6199999999999999\n",
      "acc on holdout\n",
      " 0.5\n",
      "avg acc in train1 set\n",
      " 0.5999999999999999 \n",
      "\n",
      "\n",
      "amount_features 10\n",
      "['avg_of_amount_fixation_White_Space', 'average_fixation_length_Disgusted', 'avg_of_sum_fixation_length_Neutral', 'avg_of_sum_fixation_length_White_Space', 'STD_fixation_length_Disgusted', 'STD_pupil_size_White_Space', 'STD_pupil_size_Disgusted', 'Ratio D/D+N', 'avg_of_amount_fixation_Neutral', 'STD_pupil_size_All']\n"
     ]
    },
    {
     "name": "stderr",
     "output_type": "stream",
     "text": [
      "C:\\Anaconda\\lib\\site-packages\\sklearn\\model_selection\\_search.py:841: DeprecationWarning: The default of the `iid` parameter will change from True to False in version 0.22 and will be removed in 0.24. This will change numeric results when test-set sizes are unequal.\n",
      "  DeprecationWarning)\n"
     ]
    },
    {
     "name": "stdout",
     "output_type": "stream",
     "text": [
      "________________\n",
      "best params\n",
      " {'classifier__learning_rate': 0.05, 'classifier__max_depth': 4, 'classifier__n_estimators': 75}\n",
      "\n",
      "best score\n",
      " 0.6\n",
      "avg acc in train2 set\n",
      " 0.5437037037037037\n",
      "acc on holdout\n",
      " 0.8\n",
      "avg acc in train1 set\n",
      " 0.5973333333333333 \n",
      "\n",
      "\n",
      "amount_features 10\n",
      "['average_fixation_length_Disgusted', 'Ratio D/D+N', 'STD_fixation_length_Disgusted', 'STD_pupil_size_All', 'avg_of_amount_fixation_Neutral', 'STD_pupil_size_Disgusted', 'STD_pupil_size_White_Space', 'avg_of_sum_fixation_length_Neutral', 'avg_of_sum_fixation_length_White_Space', 'avg_of_amount_fixation_White_Space']\n"
     ]
    },
    {
     "name": "stderr",
     "output_type": "stream",
     "text": [
      "C:\\Anaconda\\lib\\site-packages\\sklearn\\model_selection\\_search.py:841: DeprecationWarning: The default of the `iid` parameter will change from True to False in version 0.22 and will be removed in 0.24. This will change numeric results when test-set sizes are unequal.\n",
      "  DeprecationWarning)\n"
     ]
    },
    {
     "name": "stdout",
     "output_type": "stream",
     "text": [
      "________________\n",
      "best params\n",
      " {'classifier__learning_rate': 0.2, 'classifier__max_depth': 4, 'classifier__n_estimators': 75}\n",
      "\n",
      "best score\n",
      " 0.5777777777777777\n",
      "avg acc in train2 set\n",
      " 0.5592592592592591\n",
      "acc on holdout\n",
      " 0.7\n",
      "avg acc in train1 set\n",
      " 0.5753333333333333 \n",
      "\n",
      "\n",
      "amount_features 10\n",
      "['avg_of_sum_fixation_length_Neutral', 'average_fixation_length_Disgusted', 'STD_pupil_size_White_Space', 'STD_pupil_size_All', 'Ratio D/D+N', 'STD_pupil_size_Disgusted', 'avg_of_amount_fixation_Neutral', 'STD_fixation_length_Disgusted', 'avg_of_amount_fixation_White_Space', 'avg_of_sum_fixation_length_White_Space']\n"
     ]
    },
    {
     "name": "stderr",
     "output_type": "stream",
     "text": [
      "C:\\Anaconda\\lib\\site-packages\\sklearn\\model_selection\\_search.py:841: DeprecationWarning: The default of the `iid` parameter will change from True to False in version 0.22 and will be removed in 0.24. This will change numeric results when test-set sizes are unequal.\n",
      "  DeprecationWarning)\n"
     ]
    },
    {
     "name": "stdout",
     "output_type": "stream",
     "text": [
      "________________\n",
      "best params\n",
      " {'classifier__learning_rate': 0.05, 'classifier__max_depth': 7, 'classifier__n_estimators': 150}\n",
      "\n",
      "best score\n",
      " 0.6888888888888889\n",
      "avg acc in train2 set\n",
      " 0.5237037037037037\n",
      "acc on holdout\n",
      " 0.7\n",
      "avg acc in train1 set\n",
      " 0.6046666666666666 \n",
      "\n",
      "\n",
      "amount_features 10\n",
      "['STD_pupil_size_White_Space', 'STD_fixation_length_Disgusted', 'Ratio D/D+N', 'avg_of_sum_fixation_length_White_Space', 'STD_pupil_size_All', 'STD_pupil_size_Disgusted', 'average_fixation_length_Disgusted', 'avg_of_amount_fixation_White_Space', 'avg_of_amount_fixation_Neutral', 'avg_of_sum_fixation_length_Neutral']\n"
     ]
    },
    {
     "name": "stderr",
     "output_type": "stream",
     "text": [
      "C:\\Anaconda\\lib\\site-packages\\sklearn\\model_selection\\_search.py:841: DeprecationWarning: The default of the `iid` parameter will change from True to False in version 0.22 and will be removed in 0.24. This will change numeric results when test-set sizes are unequal.\n",
      "  DeprecationWarning)\n"
     ]
    },
    {
     "name": "stdout",
     "output_type": "stream",
     "text": [
      "________________\n",
      "best params\n",
      " {'classifier__learning_rate': 0.05, 'classifier__max_depth': 4, 'classifier__n_estimators': 75}\n",
      "\n",
      "best score\n",
      " 0.6888888888888889\n",
      "avg acc in train2 set\n",
      " 0.622222222222222\n",
      "acc on holdout\n",
      " 0.5\n",
      "avg acc in train1 set\n",
      " 0.592 \n",
      "\n",
      "\n",
      "amount_features 10\n",
      "['STD_pupil_size_Disgusted', 'STD_pupil_size_White_Space', 'Ratio D/D+N', 'avg_of_amount_fixation_Neutral', 'avg_of_sum_fixation_length_Neutral', 'STD_pupil_size_All', 'avg_of_amount_fixation_White_Space', 'STD_fixation_length_Disgusted', 'avg_of_sum_fixation_length_White_Space', 'average_fixation_length_Disgusted']\n"
     ]
    },
    {
     "name": "stderr",
     "output_type": "stream",
     "text": [
      "C:\\Anaconda\\lib\\site-packages\\sklearn\\model_selection\\_search.py:841: DeprecationWarning: The default of the `iid` parameter will change from True to False in version 0.22 and will be removed in 0.24. This will change numeric results when test-set sizes are unequal.\n",
      "  DeprecationWarning)\n"
     ]
    },
    {
     "name": "stdout",
     "output_type": "stream",
     "text": [
      "________________\n",
      "best params\n",
      " {'classifier__learning_rate': 0.15, 'classifier__max_depth': 2, 'classifier__n_estimators': 200}\n",
      "\n",
      "best score\n",
      " 0.6666666666666666\n",
      "avg acc in train2 set\n",
      " 0.6029629629629628\n",
      "acc on holdout\n",
      " 0.4\n",
      "avg acc in train1 set\n",
      " 0.5199999999999999 \n",
      "\n",
      "\n",
      "amount_features 10\n",
      "['avg_of_sum_fixation_length_Neutral', 'STD_fixation_length_Disgusted', 'average_fixation_length_Disgusted', 'STD_pupil_size_Disgusted', 'avg_of_amount_fixation_Neutral', 'Ratio D/D+N', 'avg_of_sum_fixation_length_White_Space', 'STD_pupil_size_All', 'avg_of_amount_fixation_White_Space', 'STD_pupil_size_White_Space']\n"
     ]
    },
    {
     "name": "stderr",
     "output_type": "stream",
     "text": [
      "C:\\Anaconda\\lib\\site-packages\\sklearn\\model_selection\\_search.py:841: DeprecationWarning: The default of the `iid` parameter will change from True to False in version 0.22 and will be removed in 0.24. This will change numeric results when test-set sizes are unequal.\n",
      "  DeprecationWarning)\n"
     ]
    },
    {
     "name": "stdout",
     "output_type": "stream",
     "text": [
      "________________\n",
      "best params\n",
      " {'classifier__learning_rate': 0.2, 'classifier__max_depth': 6, 'classifier__n_estimators': 75}\n",
      "\n",
      "best score\n",
      " 0.7222222222222222\n",
      "avg acc in train2 set\n",
      " 0.6725925925925925\n",
      "acc on holdout\n",
      " 0.3\n",
      "avg acc in train1 set\n",
      " 0.5653333333333334 \n",
      "\n",
      "\n",
      "amount_features 10\n",
      "['STD_pupil_size_White_Space', 'avg_of_sum_fixation_length_White_Space', 'avg_of_amount_fixation_White_Space', 'avg_of_amount_fixation_Neutral', 'STD_pupil_size_All', 'avg_of_sum_fixation_length_Neutral', 'STD_pupil_size_Disgusted', 'Ratio D/D+N', 'average_fixation_length_Disgusted', 'STD_fixation_length_Disgusted']\n"
     ]
    },
    {
     "name": "stderr",
     "output_type": "stream",
     "text": [
      "C:\\Anaconda\\lib\\site-packages\\sklearn\\model_selection\\_search.py:841: DeprecationWarning: The default of the `iid` parameter will change from True to False in version 0.22 and will be removed in 0.24. This will change numeric results when test-set sizes are unequal.\n",
      "  DeprecationWarning)\n"
     ]
    },
    {
     "name": "stdout",
     "output_type": "stream",
     "text": [
      "________________\n",
      "best params\n",
      " {'classifier__learning_rate': 0.05, 'classifier__max_depth': 6, 'classifier__n_estimators': 75}\n",
      "\n",
      "best score\n",
      " 0.6111111111111112\n",
      "avg acc in train2 set\n",
      " 0.5859259259259257\n",
      "acc on holdout\n",
      " 0.8\n",
      "avg acc in train1 set\n",
      " 0.6186666666666665 \n",
      "\n",
      "\n",
      "amount_features 10\n",
      "['Ratio D/D+N', 'avg_of_sum_fixation_length_Neutral', 'avg_of_amount_fixation_White_Space', 'avg_of_sum_fixation_length_White_Space', 'STD_pupil_size_All', 'STD_pupil_size_Disgusted', 'STD_pupil_size_White_Space', 'avg_of_amount_fixation_Neutral', 'average_fixation_length_Disgusted', 'STD_fixation_length_Disgusted']\n"
     ]
    },
    {
     "name": "stderr",
     "output_type": "stream",
     "text": [
      "C:\\Anaconda\\lib\\site-packages\\sklearn\\model_selection\\_search.py:841: DeprecationWarning: The default of the `iid` parameter will change from True to False in version 0.22 and will be removed in 0.24. This will change numeric results when test-set sizes are unequal.\n",
      "  DeprecationWarning)\n"
     ]
    },
    {
     "name": "stdout",
     "output_type": "stream",
     "text": [
      "________________\n",
      "best params\n",
      " {'classifier__learning_rate': 0.15, 'classifier__max_depth': 7, 'classifier__n_estimators': 150}\n",
      "\n",
      "best score\n",
      " 0.7\n",
      "avg acc in train2 set\n",
      " 0.6785185185185185\n",
      "acc on holdout\n",
      " 0.4\n",
      "avg acc in train1 set\n",
      " 0.5666666666666667 \n",
      "\n",
      "\n",
      "amount_features 10\n",
      "['STD_fixation_length_Disgusted', 'avg_of_sum_fixation_length_Neutral', 'STD_pupil_size_Disgusted', 'STD_pupil_size_All', 'STD_pupil_size_White_Space', 'avg_of_amount_fixation_Neutral', 'Ratio D/D+N', 'average_fixation_length_Disgusted', 'avg_of_sum_fixation_length_White_Space', 'avg_of_amount_fixation_White_Space']\n"
     ]
    },
    {
     "name": "stderr",
     "output_type": "stream",
     "text": [
      "C:\\Anaconda\\lib\\site-packages\\sklearn\\model_selection\\_search.py:841: DeprecationWarning: The default of the `iid` parameter will change from True to False in version 0.22 and will be removed in 0.24. This will change numeric results when test-set sizes are unequal.\n",
      "  DeprecationWarning)\n"
     ]
    },
    {
     "name": "stdout",
     "output_type": "stream",
     "text": [
      "________________\n",
      "best params\n",
      " {'classifier__learning_rate': 0.2, 'classifier__max_depth': 6, 'classifier__n_estimators': 100}\n",
      "\n",
      "best score\n",
      " 0.6\n",
      "avg acc in train2 set\n",
      " 0.5133333333333333\n",
      "acc on holdout\n",
      " 0.6\n",
      "avg acc in train1 set\n",
      " 0.5640000000000001 \n",
      "\n",
      "\n",
      "amount_features 10\n",
      "['STD_pupil_size_Disgusted', 'STD_pupil_size_White_Space', 'STD_fixation_length_Disgusted', 'STD_pupil_size_All', 'avg_of_sum_fixation_length_Neutral', 'average_fixation_length_Disgusted', 'avg_of_sum_fixation_length_White_Space', 'avg_of_amount_fixation_White_Space', 'Ratio D/D+N', 'avg_of_amount_fixation_Neutral']\n"
     ]
    },
    {
     "name": "stderr",
     "output_type": "stream",
     "text": [
      "C:\\Anaconda\\lib\\site-packages\\sklearn\\model_selection\\_search.py:841: DeprecationWarning: The default of the `iid` parameter will change from True to False in version 0.22 and will be removed in 0.24. This will change numeric results when test-set sizes are unequal.\n",
      "  DeprecationWarning)\n"
     ]
    },
    {
     "name": "stdout",
     "output_type": "stream",
     "text": [
      "________________\n",
      "best params\n",
      " {'classifier__learning_rate': 0.05, 'classifier__max_depth': 2, 'classifier__n_estimators': 75}\n",
      "\n",
      "best score\n",
      " 0.6666666666666666\n",
      "avg acc in train2 set\n",
      " 0.7140740740740739\n",
      "acc on holdout\n",
      " 0.6\n",
      "avg acc in train1 set\n",
      " 0.5833333333333334 \n",
      "\n",
      "\n",
      "amount_features 10\n",
      "['avg_of_sum_fixation_length_White_Space', 'avg_of_amount_fixation_Neutral', 'STD_pupil_size_All', 'STD_pupil_size_White_Space', 'STD_pupil_size_Disgusted', 'STD_fixation_length_Disgusted', 'Ratio D/D+N', 'average_fixation_length_Disgusted', 'avg_of_sum_fixation_length_Neutral', 'avg_of_amount_fixation_White_Space']\n"
     ]
    },
    {
     "name": "stderr",
     "output_type": "stream",
     "text": [
      "C:\\Anaconda\\lib\\site-packages\\sklearn\\model_selection\\_search.py:841: DeprecationWarning: The default of the `iid` parameter will change from True to False in version 0.22 and will be removed in 0.24. This will change numeric results when test-set sizes are unequal.\n",
      "  DeprecationWarning)\n"
     ]
    },
    {
     "name": "stdout",
     "output_type": "stream",
     "text": [
      "________________\n",
      "best params\n",
      " {'classifier__learning_rate': 0.05, 'classifier__max_depth': 7, 'classifier__n_estimators': 100}\n",
      "\n",
      "best score\n",
      " 0.6222222222222222\n",
      "avg acc in train2 set\n",
      " 0.5577777777777777\n",
      "acc on holdout\n",
      " 0.8\n",
      "avg acc in train1 set\n",
      " 0.6213333333333334 \n",
      "\n",
      "\n",
      "amount_features 10\n",
      "['avg_of_amount_fixation_White_Space', 'avg_of_sum_fixation_length_Neutral', 'avg_of_sum_fixation_length_White_Space', 'average_fixation_length_Disgusted', 'STD_pupil_size_White_Space', 'avg_of_amount_fixation_Neutral', 'Ratio D/D+N', 'STD_pupil_size_Disgusted', 'STD_fixation_length_Disgusted', 'STD_pupil_size_All']\n"
     ]
    },
    {
     "name": "stderr",
     "output_type": "stream",
     "text": [
      "C:\\Anaconda\\lib\\site-packages\\sklearn\\model_selection\\_search.py:841: DeprecationWarning: The default of the `iid` parameter will change from True to False in version 0.22 and will be removed in 0.24. This will change numeric results when test-set sizes are unequal.\n",
      "  DeprecationWarning)\n"
     ]
    },
    {
     "name": "stdout",
     "output_type": "stream",
     "text": [
      "________________\n",
      "best params\n",
      " {'classifier__learning_rate': 0.1, 'classifier__max_depth': 3, 'classifier__n_estimators': 75}\n",
      "\n",
      "best score\n",
      " 0.6666666666666666\n",
      "avg acc in train2 set\n",
      " 0.6755555555555556\n",
      "acc on holdout\n",
      " 0.5\n",
      "avg acc in train1 set\n",
      " 0.5879999999999999 \n",
      "\n",
      "\n",
      "amount_features 10\n",
      "['avg_of_sum_fixation_length_White_Space', 'STD_pupil_size_Disgusted', 'avg_of_amount_fixation_Neutral', 'STD_pupil_size_White_Space', 'Ratio D/D+N', 'avg_of_amount_fixation_White_Space', 'STD_pupil_size_All', 'avg_of_sum_fixation_length_Neutral', 'average_fixation_length_Disgusted', 'STD_fixation_length_Disgusted']\n"
     ]
    },
    {
     "name": "stderr",
     "output_type": "stream",
     "text": [
      "C:\\Anaconda\\lib\\site-packages\\sklearn\\model_selection\\_search.py:841: DeprecationWarning: The default of the `iid` parameter will change from True to False in version 0.22 and will be removed in 0.24. This will change numeric results when test-set sizes are unequal.\n",
      "  DeprecationWarning)\n"
     ]
    },
    {
     "name": "stdout",
     "output_type": "stream",
     "text": [
      "________________\n",
      "best params\n",
      " {'classifier__learning_rate': 0.1, 'classifier__max_depth': 3, 'classifier__n_estimators': 200}\n",
      "\n",
      "best score\n",
      " 0.6444444444444445\n",
      "avg acc in train2 set\n",
      " 0.574074074074074\n",
      "acc on holdout\n",
      " 0.2\n",
      "avg acc in train1 set\n",
      " 0.5706666666666667 \n",
      "\n",
      "\n",
      "amount_features 12\n",
      "['avg_of_sum_fixation_length_Neutral', 'STD_pupil_size_White_Space', 'Ratio D/D+N', 'avg_of_sum_fixation_length_White_Space', 'average_fixation_length_Disgusted', 'STD_pupil_size_Disgusted', 'avg_of_amount_fixation_Neutral', 'STD_fixation_length_Disgusted', 'STD_pupil_size_All', 'avg_of_amount_fixation_White_Space']\n"
     ]
    },
    {
     "name": "stderr",
     "output_type": "stream",
     "text": [
      "C:\\Anaconda\\lib\\site-packages\\sklearn\\model_selection\\_search.py:841: DeprecationWarning: The default of the `iid` parameter will change from True to False in version 0.22 and will be removed in 0.24. This will change numeric results when test-set sizes are unequal.\n",
      "  DeprecationWarning)\n"
     ]
    },
    {
     "name": "stdout",
     "output_type": "stream",
     "text": [
      "________________\n",
      "best params\n",
      " {'classifier__learning_rate': 0.15, 'classifier__max_depth': 6, 'classifier__n_estimators': 200}\n",
      "\n",
      "best score\n",
      " 0.7\n",
      "avg acc in train2 set\n",
      " 0.691111111111111\n",
      "acc on holdout\n",
      " 0.3\n",
      "avg acc in train1 set\n",
      " 0.5653333333333334 \n",
      "\n",
      "\n",
      "amount_features 12\n",
      "['average_fixation_length_Disgusted', 'avg_of_sum_fixation_length_Neutral', 'STD_pupil_size_Disgusted', 'avg_of_sum_fixation_length_White_Space', 'STD_fixation_length_Disgusted', 'avg_of_amount_fixation_Neutral', 'avg_of_amount_fixation_White_Space', 'STD_pupil_size_White_Space', 'STD_pupil_size_All', 'Ratio D/D+N']\n"
     ]
    },
    {
     "name": "stderr",
     "output_type": "stream",
     "text": [
      "C:\\Anaconda\\lib\\site-packages\\sklearn\\model_selection\\_search.py:841: DeprecationWarning: The default of the `iid` parameter will change from True to False in version 0.22 and will be removed in 0.24. This will change numeric results when test-set sizes are unequal.\n",
      "  DeprecationWarning)\n"
     ]
    },
    {
     "name": "stdout",
     "output_type": "stream",
     "text": [
      "________________\n",
      "best params\n",
      " {'classifier__learning_rate': 0.05, 'classifier__max_depth': 4, 'classifier__n_estimators': 75}\n",
      "\n",
      "best score\n",
      " 0.6666666666666666\n",
      "avg acc in train2 set\n",
      " 0.622222222222222\n",
      "acc on holdout\n",
      " 0.5\n",
      "avg acc in train1 set\n",
      " 0.5953333333333333 \n",
      "\n",
      "\n",
      "amount_features 12\n",
      "['Ratio D/D+N', 'avg_of_sum_fixation_length_White_Space', 'STD_pupil_size_Disgusted', 'avg_of_sum_fixation_length_Neutral', 'STD_pupil_size_All', 'STD_fixation_length_Disgusted', 'STD_pupil_size_White_Space', 'avg_of_amount_fixation_White_Space', 'avg_of_amount_fixation_Neutral', 'average_fixation_length_Disgusted']\n"
     ]
    },
    {
     "name": "stderr",
     "output_type": "stream",
     "text": [
      "C:\\Anaconda\\lib\\site-packages\\sklearn\\model_selection\\_search.py:841: DeprecationWarning: The default of the `iid` parameter will change from True to False in version 0.22 and will be removed in 0.24. This will change numeric results when test-set sizes are unequal.\n",
      "  DeprecationWarning)\n"
     ]
    },
    {
     "name": "stdout",
     "output_type": "stream",
     "text": [
      "________________\n",
      "best params\n",
      " {'classifier__learning_rate': 0.05, 'classifier__max_depth': 4, 'classifier__n_estimators': 75}\n",
      "\n",
      "best score\n",
      " 0.6333333333333333\n",
      "avg acc in train2 set\n",
      " 0.5681481481481481\n",
      "acc on holdout\n",
      " 0.6\n",
      "avg acc in train1 set\n",
      " 0.5953333333333333 \n",
      "\n",
      "\n",
      "amount_features 12\n",
      "['avg_of_sum_fixation_length_White_Space', 'avg_of_amount_fixation_Neutral', 'avg_of_sum_fixation_length_Neutral', 'STD_fixation_length_Disgusted', 'Ratio D/D+N', 'STD_pupil_size_Disgusted', 'STD_pupil_size_White_Space', 'average_fixation_length_Disgusted', 'STD_pupil_size_All', 'avg_of_amount_fixation_White_Space']\n"
     ]
    },
    {
     "name": "stderr",
     "output_type": "stream",
     "text": [
      "C:\\Anaconda\\lib\\site-packages\\sklearn\\model_selection\\_search.py:841: DeprecationWarning: The default of the `iid` parameter will change from True to False in version 0.22 and will be removed in 0.24. This will change numeric results when test-set sizes are unequal.\n",
      "  DeprecationWarning)\n"
     ]
    },
    {
     "name": "stdout",
     "output_type": "stream",
     "text": [
      "________________\n",
      "best params\n",
      " {'classifier__learning_rate': 0.05, 'classifier__max_depth': 4, 'classifier__n_estimators': 75}\n",
      "\n",
      "best score\n",
      " 0.6666666666666666\n",
      "avg acc in train2 set\n",
      " 0.6311111111111108\n",
      "acc on holdout\n",
      " 0.9\n",
      "avg acc in train1 set\n",
      " 0.596 \n",
      "\n",
      "\n",
      "amount_features 12\n",
      "['STD_fixation_length_Disgusted', 'avg_of_sum_fixation_length_Neutral', 'avg_of_amount_fixation_Neutral', 'average_fixation_length_Disgusted', 'STD_pupil_size_Disgusted', 'STD_pupil_size_All', 'avg_of_amount_fixation_White_Space', 'STD_pupil_size_White_Space', 'avg_of_sum_fixation_length_White_Space', 'Ratio D/D+N']\n"
     ]
    },
    {
     "name": "stderr",
     "output_type": "stream",
     "text": [
      "C:\\Anaconda\\lib\\site-packages\\sklearn\\model_selection\\_search.py:841: DeprecationWarning: The default of the `iid` parameter will change from True to False in version 0.22 and will be removed in 0.24. This will change numeric results when test-set sizes are unequal.\n",
      "  DeprecationWarning)\n"
     ]
    },
    {
     "name": "stdout",
     "output_type": "stream",
     "text": [
      "________________\n",
      "best params\n",
      " {'classifier__learning_rate': 0.1, 'classifier__max_depth': 7, 'classifier__n_estimators': 150}\n",
      "\n",
      "best score\n",
      " 0.6333333333333333\n",
      "avg acc in train2 set\n",
      " 0.5244444444444444\n",
      "acc on holdout\n",
      " 0.6\n",
      "avg acc in train1 set\n",
      " 0.588 \n",
      "\n",
      "\n",
      "amount_features 12\n",
      "['average_fixation_length_Disgusted', 'STD_pupil_size_White_Space', 'avg_of_amount_fixation_Neutral', 'STD_pupil_size_All', 'STD_pupil_size_Disgusted', 'STD_fixation_length_Disgusted', 'Ratio D/D+N', 'avg_of_sum_fixation_length_Neutral', 'avg_of_amount_fixation_White_Space', 'avg_of_sum_fixation_length_White_Space']\n"
     ]
    },
    {
     "name": "stderr",
     "output_type": "stream",
     "text": [
      "C:\\Anaconda\\lib\\site-packages\\sklearn\\model_selection\\_search.py:841: DeprecationWarning: The default of the `iid` parameter will change from True to False in version 0.22 and will be removed in 0.24. This will change numeric results when test-set sizes are unequal.\n",
      "  DeprecationWarning)\n"
     ]
    },
    {
     "name": "stdout",
     "output_type": "stream",
     "text": [
      "________________\n",
      "best params\n",
      " {'classifier__learning_rate': 0.2, 'classifier__max_depth': 4, 'classifier__n_estimators': 150}\n",
      "\n",
      "best score\n",
      " 0.6555555555555556\n",
      "avg acc in train2 set\n",
      " 0.5911111111111109\n",
      "acc on holdout\n",
      " 0.3\n",
      "avg acc in train1 set\n",
      " 0.5913333333333333 \n",
      "\n",
      "\n",
      "amount_features 12\n",
      "['avg_of_sum_fixation_length_White_Space', 'STD_pupil_size_Disgusted', 'avg_of_amount_fixation_Neutral', 'avg_of_sum_fixation_length_Neutral', 'STD_pupil_size_White_Space', 'STD_fixation_length_Disgusted', 'avg_of_amount_fixation_White_Space', 'STD_pupil_size_All', 'average_fixation_length_Disgusted', 'Ratio D/D+N']\n"
     ]
    },
    {
     "name": "stderr",
     "output_type": "stream",
     "text": [
      "C:\\Anaconda\\lib\\site-packages\\sklearn\\model_selection\\_search.py:841: DeprecationWarning: The default of the `iid` parameter will change from True to False in version 0.22 and will be removed in 0.24. This will change numeric results when test-set sizes are unequal.\n",
      "  DeprecationWarning)\n"
     ]
    },
    {
     "name": "stdout",
     "output_type": "stream",
     "text": [
      "________________\n",
      "best params\n",
      " {'classifier__learning_rate': 0.05, 'classifier__max_depth': 7, 'classifier__n_estimators': 75}\n",
      "\n",
      "best score\n",
      " 0.6222222222222222\n",
      "avg acc in train2 set\n",
      " 0.5925925925925923\n",
      "acc on holdout\n",
      " 0.6\n",
      "avg acc in train1 set\n",
      " 0.6293333333333334 \n",
      "\n",
      "\n",
      "amount_features 12\n",
      "['avg_of_amount_fixation_White_Space', 'avg_of_amount_fixation_Neutral', 'Ratio D/D+N', 'average_fixation_length_Disgusted', 'STD_pupil_size_Disgusted', 'STD_pupil_size_White_Space', 'avg_of_sum_fixation_length_White_Space', 'STD_pupil_size_All', 'avg_of_sum_fixation_length_Neutral', 'STD_fixation_length_Disgusted']\n"
     ]
    },
    {
     "name": "stderr",
     "output_type": "stream",
     "text": [
      "C:\\Anaconda\\lib\\site-packages\\sklearn\\model_selection\\_search.py:841: DeprecationWarning: The default of the `iid` parameter will change from True to False in version 0.22 and will be removed in 0.24. This will change numeric results when test-set sizes are unequal.\n",
      "  DeprecationWarning)\n"
     ]
    },
    {
     "name": "stdout",
     "output_type": "stream",
     "text": [
      "________________\n",
      "best params\n",
      " {'classifier__learning_rate': 0.05, 'classifier__max_depth': 2, 'classifier__n_estimators': 150}\n",
      "\n",
      "best score\n",
      " 0.6555555555555556\n",
      "avg acc in train2 set\n",
      " 0.594074074074074\n",
      "acc on holdout\n",
      " 0.6\n",
      "avg acc in train1 set\n",
      " 0.5500000000000002 \n",
      "\n",
      "\n",
      "amount_features 12\n",
      "['STD_fixation_length_Disgusted', 'avg_of_amount_fixation_White_Space', 'Ratio D/D+N', 'STD_pupil_size_Disgusted', 'STD_pupil_size_All', 'avg_of_sum_fixation_length_White_Space', 'avg_of_sum_fixation_length_Neutral', 'avg_of_amount_fixation_Neutral', 'STD_pupil_size_White_Space', 'average_fixation_length_Disgusted']\n"
     ]
    },
    {
     "name": "stderr",
     "output_type": "stream",
     "text": [
      "C:\\Anaconda\\lib\\site-packages\\sklearn\\model_selection\\_search.py:841: DeprecationWarning: The default of the `iid` parameter will change from True to False in version 0.22 and will be removed in 0.24. This will change numeric results when test-set sizes are unequal.\n",
      "  DeprecationWarning)\n"
     ]
    },
    {
     "name": "stdout",
     "output_type": "stream",
     "text": [
      "________________\n",
      "best params\n",
      " {'classifier__learning_rate': 0.05, 'classifier__max_depth': 4, 'classifier__n_estimators': 75}\n",
      "\n",
      "best score\n",
      " 0.6222222222222222\n",
      "avg acc in train2 set\n",
      " 0.6133333333333332\n",
      "acc on holdout\n",
      " 0.7\n",
      "avg acc in train1 set\n",
      " 0.5959999999999999 \n",
      "\n",
      "\n",
      "amount_features 12\n",
      "['avg_of_sum_fixation_length_White_Space', 'STD_pupil_size_White_Space', 'STD_fixation_length_Disgusted', 'avg_of_amount_fixation_Neutral', 'STD_pupil_size_All', 'avg_of_sum_fixation_length_Neutral', 'Ratio D/D+N', 'STD_pupil_size_Disgusted', 'avg_of_amount_fixation_White_Space', 'average_fixation_length_Disgusted']\n"
     ]
    },
    {
     "name": "stderr",
     "output_type": "stream",
     "text": [
      "C:\\Anaconda\\lib\\site-packages\\sklearn\\model_selection\\_search.py:841: DeprecationWarning: The default of the `iid` parameter will change from True to False in version 0.22 and will be removed in 0.24. This will change numeric results when test-set sizes are unequal.\n",
      "  DeprecationWarning)\n"
     ]
    },
    {
     "name": "stdout",
     "output_type": "stream",
     "text": [
      "________________\n",
      "best params\n",
      " {'classifier__learning_rate': 0.15, 'classifier__max_depth': 3, 'classifier__n_estimators': 75}\n",
      "\n",
      "best score\n",
      " 0.6111111111111112\n",
      "avg acc in train2 set\n",
      " 0.5296296296296296\n",
      "acc on holdout\n",
      " 0.6\n",
      "avg acc in train1 set\n",
      " 0.5933333333333333 \n",
      "\n",
      "\n",
      "amount_features 12\n",
      "['avg_of_amount_fixation_Neutral', 'Ratio D/D+N', 'STD_pupil_size_White_Space', 'STD_pupil_size_All', 'STD_fixation_length_Disgusted', 'avg_of_sum_fixation_length_White_Space', 'avg_of_sum_fixation_length_Neutral', 'average_fixation_length_Disgusted', 'STD_pupil_size_Disgusted', 'avg_of_amount_fixation_White_Space']\n"
     ]
    },
    {
     "name": "stderr",
     "output_type": "stream",
     "text": [
      "C:\\Anaconda\\lib\\site-packages\\sklearn\\model_selection\\_search.py:841: DeprecationWarning: The default of the `iid` parameter will change from True to False in version 0.22 and will be removed in 0.24. This will change numeric results when test-set sizes are unequal.\n",
      "  DeprecationWarning)\n"
     ]
    },
    {
     "name": "stdout",
     "output_type": "stream",
     "text": [
      "________________\n",
      "best params\n",
      " {'classifier__learning_rate': 0.05, 'classifier__max_depth': 7, 'classifier__n_estimators': 75}\n",
      "\n",
      "best score\n",
      " 0.6111111111111112\n",
      "avg acc in train2 set\n",
      " 0.571111111111111\n",
      "acc on holdout\n",
      " 0.7\n",
      "avg acc in train1 set\n",
      " 0.6280000000000001 \n",
      "\n",
      "\n",
      "amount_features 12\n",
      "['STD_pupil_size_All', 'STD_fixation_length_Disgusted', 'avg_of_amount_fixation_Neutral', 'Ratio D/D+N', 'avg_of_sum_fixation_length_White_Space', 'average_fixation_length_Disgusted', 'avg_of_sum_fixation_length_Neutral', 'avg_of_amount_fixation_White_Space', 'STD_pupil_size_Disgusted', 'STD_pupil_size_White_Space']\n"
     ]
    },
    {
     "name": "stderr",
     "output_type": "stream",
     "text": [
      "C:\\Anaconda\\lib\\site-packages\\sklearn\\model_selection\\_search.py:841: DeprecationWarning: The default of the `iid` parameter will change from True to False in version 0.22 and will be removed in 0.24. This will change numeric results when test-set sizes are unequal.\n",
      "  DeprecationWarning)\n"
     ]
    },
    {
     "name": "stdout",
     "output_type": "stream",
     "text": [
      "________________\n",
      "best params\n",
      " {'classifier__learning_rate': 0.2, 'classifier__max_depth': 3, 'classifier__n_estimators': 100}\n",
      "\n",
      "best score\n",
      " 0.6111111111111112\n",
      "avg acc in train2 set\n",
      " 0.5614814814814814\n",
      "acc on holdout\n",
      " 0.7\n",
      "avg acc in train1 set\n",
      " 0.5833333333333333 \n",
      "\n",
      "\n",
      "amount_features 12\n",
      "['STD_pupil_size_Disgusted', 'average_fixation_length_Disgusted', 'Ratio D/D+N', 'STD_fixation_length_Disgusted', 'avg_of_amount_fixation_Neutral', 'avg_of_sum_fixation_length_White_Space', 'STD_pupil_size_White_Space', 'STD_pupil_size_All', 'avg_of_amount_fixation_White_Space', 'avg_of_sum_fixation_length_Neutral']\n"
     ]
    },
    {
     "name": "stderr",
     "output_type": "stream",
     "text": [
      "C:\\Anaconda\\lib\\site-packages\\sklearn\\model_selection\\_search.py:841: DeprecationWarning: The default of the `iid` parameter will change from True to False in version 0.22 and will be removed in 0.24. This will change numeric results when test-set sizes are unequal.\n",
      "  DeprecationWarning)\n"
     ]
    },
    {
     "name": "stdout",
     "output_type": "stream",
     "text": [
      "________________\n",
      "best params\n",
      " {'classifier__learning_rate': 0.2, 'classifier__max_depth': 4, 'classifier__n_estimators': 150}\n",
      "\n",
      "best score\n",
      " 0.6555555555555556\n",
      "avg acc in train2 set\n",
      " 0.6111111111111109\n",
      "acc on holdout\n",
      " 0.5\n",
      "avg acc in train1 set\n",
      " 0.5813333333333334 \n",
      "\n",
      "\n",
      "amount_features 12\n",
      "['average_fixation_length_Disgusted', 'avg_of_sum_fixation_length_White_Space', 'STD_pupil_size_Disgusted', 'avg_of_amount_fixation_White_Space', 'STD_fixation_length_Disgusted', 'avg_of_sum_fixation_length_Neutral', 'STD_pupil_size_All', 'Ratio D/D+N', 'avg_of_amount_fixation_Neutral', 'STD_pupil_size_White_Space']\n"
     ]
    },
    {
     "name": "stderr",
     "output_type": "stream",
     "text": [
      "C:\\Anaconda\\lib\\site-packages\\sklearn\\model_selection\\_search.py:841: DeprecationWarning: The default of the `iid` parameter will change from True to False in version 0.22 and will be removed in 0.24. This will change numeric results when test-set sizes are unequal.\n",
      "  DeprecationWarning)\n"
     ]
    },
    {
     "name": "stdout",
     "output_type": "stream",
     "text": [
      "________________\n",
      "best params\n",
      " {'classifier__learning_rate': 0.05, 'classifier__max_depth': 3, 'classifier__n_estimators': 150}\n",
      "\n",
      "best score\n",
      " 0.6555555555555556\n",
      "avg acc in train2 set\n",
      " 0.6422222222222221\n",
      "acc on holdout\n",
      " 0.5\n",
      "avg acc in train1 set\n",
      " 0.6059999999999999 \n",
      "\n",
      "\n",
      "amount_features 12\n",
      "['avg_of_sum_fixation_length_White_Space', 'STD_fixation_length_Disgusted', 'avg_of_amount_fixation_Neutral', 'Ratio D/D+N', 'STD_pupil_size_White_Space', 'avg_of_amount_fixation_White_Space', 'average_fixation_length_Disgusted', 'STD_pupil_size_Disgusted', 'STD_pupil_size_All', 'avg_of_sum_fixation_length_Neutral']\n"
     ]
    },
    {
     "name": "stderr",
     "output_type": "stream",
     "text": [
      "C:\\Anaconda\\lib\\site-packages\\sklearn\\model_selection\\_search.py:841: DeprecationWarning: The default of the `iid` parameter will change from True to False in version 0.22 and will be removed in 0.24. This will change numeric results when test-set sizes are unequal.\n",
      "  DeprecationWarning)\n"
     ]
    },
    {
     "name": "stdout",
     "output_type": "stream",
     "text": [
      "________________\n",
      "best params\n",
      " {'classifier__learning_rate': 0.1, 'classifier__max_depth': 5, 'classifier__n_estimators': 150}\n",
      "\n",
      "best score\n",
      " 0.6444444444444445\n",
      "avg acc in train2 set\n",
      " 0.5755555555555554\n",
      "acc on holdout\n",
      " 0.6\n",
      "avg acc in train1 set\n",
      " 0.5953333333333333 \n",
      "\n",
      "\n",
      "amount_features 12\n",
      "['STD_pupil_size_Disgusted', 'STD_pupil_size_White_Space', 'Ratio D/D+N', 'STD_fixation_length_Disgusted', 'avg_of_sum_fixation_length_Neutral', 'average_fixation_length_Disgusted', 'avg_of_amount_fixation_Neutral', 'avg_of_sum_fixation_length_White_Space', 'STD_pupil_size_All', 'avg_of_amount_fixation_White_Space']\n"
     ]
    },
    {
     "name": "stderr",
     "output_type": "stream",
     "text": [
      "C:\\Anaconda\\lib\\site-packages\\sklearn\\model_selection\\_search.py:841: DeprecationWarning: The default of the `iid` parameter will change from True to False in version 0.22 and will be removed in 0.24. This will change numeric results when test-set sizes are unequal.\n",
      "  DeprecationWarning)\n"
     ]
    },
    {
     "name": "stdout",
     "output_type": "stream",
     "text": [
      "________________\n",
      "best params\n",
      " {'classifier__learning_rate': 0.2, 'classifier__max_depth': 3, 'classifier__n_estimators': 100}\n",
      "\n",
      "best score\n",
      " 0.6333333333333333\n",
      "avg acc in train2 set\n",
      " 0.4681481481481482\n",
      "acc on holdout\n",
      " 0.6\n",
      "avg acc in train1 set\n",
      " 0.5740000000000001 \n",
      "\n",
      "\n",
      "amount_features 12\n",
      "['Ratio D/D+N', 'STD_pupil_size_Disgusted', 'avg_of_sum_fixation_length_White_Space', 'average_fixation_length_Disgusted', 'STD_pupil_size_White_Space', 'STD_fixation_length_Disgusted', 'avg_of_sum_fixation_length_Neutral', 'avg_of_amount_fixation_White_Space', 'STD_pupil_size_All', 'avg_of_amount_fixation_Neutral']\n"
     ]
    },
    {
     "name": "stderr",
     "output_type": "stream",
     "text": [
      "C:\\Anaconda\\lib\\site-packages\\sklearn\\model_selection\\_search.py:841: DeprecationWarning: The default of the `iid` parameter will change from True to False in version 0.22 and will be removed in 0.24. This will change numeric results when test-set sizes are unequal.\n",
      "  DeprecationWarning)\n"
     ]
    },
    {
     "name": "stdout",
     "output_type": "stream",
     "text": [
      "________________\n",
      "best params\n",
      " {'classifier__learning_rate': 0.05, 'classifier__max_depth': 7, 'classifier__n_estimators': 75}\n",
      "\n",
      "best score\n",
      " 0.6555555555555556\n",
      "avg acc in train2 set\n",
      " 0.6014814814814814\n",
      "acc on holdout\n",
      " 0.6\n",
      "avg acc in train1 set\n",
      " 0.6266666666666666 \n",
      "\n",
      "\n",
      "amount_features 12\n",
      "['avg_of_amount_fixation_White_Space', 'STD_pupil_size_White_Space', 'STD_pupil_size_Disgusted', 'average_fixation_length_Disgusted', 'STD_fixation_length_Disgusted', 'Ratio D/D+N', 'avg_of_sum_fixation_length_Neutral', 'avg_of_sum_fixation_length_White_Space', 'avg_of_amount_fixation_Neutral', 'STD_pupil_size_All']\n"
     ]
    },
    {
     "name": "stderr",
     "output_type": "stream",
     "text": [
      "C:\\Anaconda\\lib\\site-packages\\sklearn\\model_selection\\_search.py:841: DeprecationWarning: The default of the `iid` parameter will change from True to False in version 0.22 and will be removed in 0.24. This will change numeric results when test-set sizes are unequal.\n",
      "  DeprecationWarning)\n"
     ]
    },
    {
     "name": "stdout",
     "output_type": "stream",
     "text": [
      "________________\n",
      "best params\n",
      " {'classifier__learning_rate': 0.15, 'classifier__max_depth': 6, 'classifier__n_estimators': 200}\n",
      "\n",
      "best score\n",
      " 0.6\n",
      "avg acc in train2 set\n",
      " 0.5837037037037035\n",
      "acc on holdout\n",
      " 0.4\n",
      "avg acc in train1 set\n",
      " 0.5640000000000001 \n",
      "\n",
      "\n",
      "amount_features 12\n",
      "['avg_of_sum_fixation_length_White_Space', 'Ratio D/D+N', 'average_fixation_length_Disgusted', 'STD_pupil_size_Disgusted', 'avg_of_amount_fixation_White_Space', 'avg_of_sum_fixation_length_Neutral', 'STD_fixation_length_Disgusted', 'STD_pupil_size_All', 'avg_of_amount_fixation_Neutral', 'STD_pupil_size_White_Space']\n"
     ]
    },
    {
     "name": "stderr",
     "output_type": "stream",
     "text": [
      "C:\\Anaconda\\lib\\site-packages\\sklearn\\model_selection\\_search.py:841: DeprecationWarning: The default of the `iid` parameter will change from True to False in version 0.22 and will be removed in 0.24. This will change numeric results when test-set sizes are unequal.\n",
      "  DeprecationWarning)\n"
     ]
    },
    {
     "name": "stdout",
     "output_type": "stream",
     "text": [
      "________________\n",
      "best params\n",
      " {'classifier__learning_rate': 0.05, 'classifier__max_depth': 3, 'classifier__n_estimators': 150}\n",
      "\n",
      "best score\n",
      " 0.6555555555555556\n",
      "avg acc in train2 set\n",
      " 0.5881481481481481\n",
      "acc on holdout\n",
      " 0.6\n",
      "avg acc in train1 set\n",
      " 0.6046666666666666 \n",
      "\n",
      "\n",
      "amount_features 12\n",
      "['STD_pupil_size_White_Space', 'avg_of_amount_fixation_Neutral', 'STD_pupil_size_Disgusted', 'avg_of_amount_fixation_White_Space', 'avg_of_sum_fixation_length_Neutral', 'Ratio D/D+N', 'STD_pupil_size_All', 'average_fixation_length_Disgusted', 'STD_fixation_length_Disgusted', 'avg_of_sum_fixation_length_White_Space']\n"
     ]
    },
    {
     "name": "stderr",
     "output_type": "stream",
     "text": [
      "C:\\Anaconda\\lib\\site-packages\\sklearn\\model_selection\\_search.py:841: DeprecationWarning: The default of the `iid` parameter will change from True to False in version 0.22 and will be removed in 0.24. This will change numeric results when test-set sizes are unequal.\n",
      "  DeprecationWarning)\n"
     ]
    },
    {
     "name": "stdout",
     "output_type": "stream",
     "text": [
      "________________\n",
      "best params\n",
      " {'classifier__learning_rate': 0.1, 'classifier__max_depth': 6, 'classifier__n_estimators': 100}\n",
      "\n",
      "best score\n",
      " 0.6777777777777778\n",
      "avg acc in train2 set\n",
      " 0.6125925925925925\n",
      "acc on holdout\n",
      " 0.5\n",
      "avg acc in train1 set\n",
      " 0.5879999999999999 \n",
      "\n",
      "\n",
      "amount_features 14\n",
      "['STD_pupil_size_Disgusted', 'avg_of_sum_fixation_length_Neutral', 'avg_of_sum_fixation_length_White_Space', 'avg_of_amount_fixation_White_Space', 'STD_pupil_size_All', 'average_fixation_length_Disgusted', 'STD_pupil_size_White_Space', 'avg_of_amount_fixation_Neutral', 'Ratio D/D+N', 'STD_fixation_length_Disgusted']\n"
     ]
    },
    {
     "name": "stderr",
     "output_type": "stream",
     "text": [
      "C:\\Anaconda\\lib\\site-packages\\sklearn\\model_selection\\_search.py:841: DeprecationWarning: The default of the `iid` parameter will change from True to False in version 0.22 and will be removed in 0.24. This will change numeric results when test-set sizes are unequal.\n",
      "  DeprecationWarning)\n"
     ]
    },
    {
     "name": "stdout",
     "output_type": "stream",
     "text": [
      "________________\n",
      "best params\n",
      " {'classifier__learning_rate': 0.15, 'classifier__max_depth': 6, 'classifier__n_estimators': 150}\n",
      "\n",
      "best score\n",
      " 0.6555555555555556\n",
      "avg acc in train2 set\n",
      " 0.6037037037037035\n",
      "acc on holdout\n",
      " 0.6\n",
      "avg acc in train1 set\n",
      " 0.5686666666666668 \n",
      "\n",
      "\n",
      "amount_features 14\n",
      "['STD_fixation_length_Disgusted', 'STD_pupil_size_Disgusted', 'STD_pupil_size_All', 'STD_pupil_size_White_Space', 'average_fixation_length_Disgusted', 'avg_of_sum_fixation_length_Neutral', 'avg_of_sum_fixation_length_White_Space', 'avg_of_amount_fixation_White_Space', 'Ratio D/D+N', 'avg_of_amount_fixation_Neutral']\n"
     ]
    },
    {
     "name": "stderr",
     "output_type": "stream",
     "text": [
      "C:\\Anaconda\\lib\\site-packages\\sklearn\\model_selection\\_search.py:841: DeprecationWarning: The default of the `iid` parameter will change from True to False in version 0.22 and will be removed in 0.24. This will change numeric results when test-set sizes are unequal.\n",
      "  DeprecationWarning)\n"
     ]
    },
    {
     "name": "stdout",
     "output_type": "stream",
     "text": [
      "________________\n",
      "best params\n",
      " {'classifier__learning_rate': 0.1, 'classifier__max_depth': 7, 'classifier__n_estimators': 200}\n",
      "\n",
      "best score\n",
      " 0.5555555555555556\n",
      "avg acc in train2 set\n",
      " 0.5637037037037036\n",
      "acc on holdout\n",
      " 0.3\n",
      "avg acc in train1 set\n",
      " 0.5913333333333333 \n",
      "\n",
      "\n",
      "amount_features 14\n",
      "['avg_of_amount_fixation_Neutral', 'avg_of_amount_fixation_White_Space', 'avg_of_sum_fixation_length_White_Space', 'Ratio D/D+N', 'STD_pupil_size_White_Space', 'average_fixation_length_Disgusted', 'avg_of_sum_fixation_length_Neutral', 'STD_fixation_length_Disgusted', 'STD_pupil_size_Disgusted', 'STD_pupil_size_All']\n"
     ]
    },
    {
     "name": "stderr",
     "output_type": "stream",
     "text": [
      "C:\\Anaconda\\lib\\site-packages\\sklearn\\model_selection\\_search.py:841: DeprecationWarning: The default of the `iid` parameter will change from True to False in version 0.22 and will be removed in 0.24. This will change numeric results when test-set sizes are unequal.\n",
      "  DeprecationWarning)\n"
     ]
    },
    {
     "name": "stdout",
     "output_type": "stream",
     "text": [
      "________________\n",
      "best params\n",
      " {'classifier__learning_rate': 0.1, 'classifier__max_depth': 7, 'classifier__n_estimators': 200}\n",
      "\n",
      "best score\n",
      " 0.6444444444444445\n",
      "avg acc in train2 set\n",
      " 0.4681481481481482\n",
      "acc on holdout\n",
      " 0.6\n",
      "avg acc in train1 set\n",
      " 0.584 \n",
      "\n",
      "\n",
      "amount_features 14\n",
      "['STD_fixation_length_Disgusted', 'avg_of_sum_fixation_length_Neutral', 'avg_of_amount_fixation_White_Space', 'STD_pupil_size_All', 'Ratio D/D+N', 'average_fixation_length_Disgusted', 'avg_of_sum_fixation_length_White_Space', 'STD_pupil_size_White_Space', 'avg_of_amount_fixation_Neutral', 'STD_pupil_size_Disgusted']\n"
     ]
    },
    {
     "name": "stderr",
     "output_type": "stream",
     "text": [
      "C:\\Anaconda\\lib\\site-packages\\sklearn\\model_selection\\_search.py:841: DeprecationWarning: The default of the `iid` parameter will change from True to False in version 0.22 and will be removed in 0.24. This will change numeric results when test-set sizes are unequal.\n",
      "  DeprecationWarning)\n"
     ]
    },
    {
     "name": "stdout",
     "output_type": "stream",
     "text": [
      "________________\n",
      "best params\n",
      " {'classifier__learning_rate': 0.05, 'classifier__max_depth': 7, 'classifier__n_estimators': 150}\n",
      "\n",
      "best score\n",
      " 0.6333333333333333\n",
      "avg acc in train2 set\n",
      " 0.5918518518518517\n",
      "acc on holdout\n",
      " 0.7\n",
      "avg acc in train1 set\n",
      " 0.6113333333333333 \n",
      "\n",
      "\n",
      "amount_features 14\n",
      "['STD_pupil_size_Disgusted', 'STD_pupil_size_All', 'avg_of_amount_fixation_White_Space', 'Ratio D/D+N', 'avg_of_sum_fixation_length_Neutral', 'avg_of_sum_fixation_length_White_Space', 'average_fixation_length_Disgusted', 'STD_pupil_size_White_Space', 'STD_fixation_length_Disgusted', 'avg_of_amount_fixation_Neutral']\n"
     ]
    },
    {
     "name": "stderr",
     "output_type": "stream",
     "text": [
      "C:\\Anaconda\\lib\\site-packages\\sklearn\\model_selection\\_search.py:841: DeprecationWarning: The default of the `iid` parameter will change from True to False in version 0.22 and will be removed in 0.24. This will change numeric results when test-set sizes are unequal.\n",
      "  DeprecationWarning)\n"
     ]
    },
    {
     "name": "stdout",
     "output_type": "stream",
     "text": [
      "________________\n",
      "best params\n",
      " {'classifier__learning_rate': 0.15, 'classifier__max_depth': 7, 'classifier__n_estimators': 75}\n",
      "\n",
      "best score\n",
      " 0.7\n",
      "avg acc in train2 set\n",
      " 0.5948148148148147\n",
      "acc on holdout\n",
      " 0.6\n",
      "avg acc in train1 set\n",
      " 0.5686666666666668 \n",
      "\n",
      "\n",
      "amount_features 14\n",
      "['Ratio D/D+N', 'avg_of_amount_fixation_Neutral', 'STD_pupil_size_Disgusted', 'average_fixation_length_Disgusted', 'avg_of_amount_fixation_White_Space', 'STD_pupil_size_All', 'STD_pupil_size_White_Space', 'avg_of_sum_fixation_length_White_Space', 'avg_of_sum_fixation_length_Neutral', 'STD_fixation_length_Disgusted']\n"
     ]
    },
    {
     "name": "stderr",
     "output_type": "stream",
     "text": [
      "C:\\Anaconda\\lib\\site-packages\\sklearn\\model_selection\\_search.py:841: DeprecationWarning: The default of the `iid` parameter will change from True to False in version 0.22 and will be removed in 0.24. This will change numeric results when test-set sizes are unequal.\n",
      "  DeprecationWarning)\n"
     ]
    },
    {
     "name": "stdout",
     "output_type": "stream",
     "text": [
      "________________\n",
      "best params\n",
      " {'classifier__learning_rate': 0.1, 'classifier__max_depth': 3, 'classifier__n_estimators': 100}\n",
      "\n",
      "best score\n",
      " 0.6666666666666666\n",
      "avg acc in train2 set\n",
      " 0.64\n",
      "acc on holdout\n",
      " 0.6\n",
      "avg acc in train1 set\n",
      " 0.5786666666666667 \n",
      "\n",
      "\n",
      "amount_features 14\n",
      "['avg_of_sum_fixation_length_White_Space', 'avg_of_amount_fixation_White_Space', 'STD_pupil_size_Disgusted', 'STD_pupil_size_All', 'average_fixation_length_Disgusted', 'STD_fixation_length_Disgusted', 'avg_of_sum_fixation_length_Neutral', 'Ratio D/D+N', 'avg_of_amount_fixation_Neutral', 'STD_pupil_size_White_Space']\n"
     ]
    },
    {
     "name": "stderr",
     "output_type": "stream",
     "text": [
      "C:\\Anaconda\\lib\\site-packages\\sklearn\\model_selection\\_search.py:841: DeprecationWarning: The default of the `iid` parameter will change from True to False in version 0.22 and will be removed in 0.24. This will change numeric results when test-set sizes are unequal.\n",
      "  DeprecationWarning)\n"
     ]
    },
    {
     "name": "stdout",
     "output_type": "stream",
     "text": [
      "________________\n",
      "best params\n",
      " {'classifier__learning_rate': 0.05, 'classifier__max_depth': 4, 'classifier__n_estimators': 200}\n",
      "\n",
      "best score\n",
      " 0.6333333333333333\n",
      "avg acc in train2 set\n",
      " 0.5725925925925924\n",
      "acc on holdout\n",
      " 0.5\n",
      "avg acc in train1 set\n",
      " 0.608 \n",
      "\n",
      "\n",
      "amount_features 14\n",
      "['avg_of_sum_fixation_length_White_Space', 'avg_of_sum_fixation_length_Neutral', 'avg_of_amount_fixation_Neutral', 'STD_pupil_size_White_Space', 'Ratio D/D+N', 'STD_pupil_size_All', 'STD_pupil_size_Disgusted', 'STD_fixation_length_Disgusted', 'average_fixation_length_Disgusted', 'avg_of_amount_fixation_White_Space']\n"
     ]
    },
    {
     "name": "stderr",
     "output_type": "stream",
     "text": [
      "C:\\Anaconda\\lib\\site-packages\\sklearn\\model_selection\\_search.py:841: DeprecationWarning: The default of the `iid` parameter will change from True to False in version 0.22 and will be removed in 0.24. This will change numeric results when test-set sizes are unequal.\n",
      "  DeprecationWarning)\n"
     ]
    },
    {
     "name": "stdout",
     "output_type": "stream",
     "text": [
      "________________\n",
      "best params\n",
      " {'classifier__learning_rate': 0.05, 'classifier__max_depth': 3, 'classifier__n_estimators': 150}\n",
      "\n",
      "best score\n",
      " 0.6777777777777778\n",
      "avg acc in train2 set\n",
      " 0.6022222222222221\n",
      "acc on holdout\n",
      " 0.7\n",
      "avg acc in train1 set\n",
      " 0.6053333333333334 \n",
      "\n",
      "\n",
      "amount_features 14\n",
      "['average_fixation_length_Disgusted', 'STD_pupil_size_All', 'STD_pupil_size_Disgusted', 'STD_fixation_length_Disgusted', 'avg_of_sum_fixation_length_White_Space', 'avg_of_amount_fixation_White_Space', 'avg_of_amount_fixation_Neutral', 'avg_of_sum_fixation_length_Neutral', 'Ratio D/D+N', 'STD_pupil_size_White_Space']\n"
     ]
    },
    {
     "name": "stderr",
     "output_type": "stream",
     "text": [
      "C:\\Anaconda\\lib\\site-packages\\sklearn\\model_selection\\_search.py:841: DeprecationWarning: The default of the `iid` parameter will change from True to False in version 0.22 and will be removed in 0.24. This will change numeric results when test-set sizes are unequal.\n",
      "  DeprecationWarning)\n"
     ]
    },
    {
     "name": "stdout",
     "output_type": "stream",
     "text": [
      "________________\n",
      "best params\n",
      " {'classifier__learning_rate': 0.05, 'classifier__max_depth': 2, 'classifier__n_estimators': 75}\n",
      "\n",
      "best score\n",
      " 0.6555555555555556\n",
      "avg acc in train2 set\n",
      " 0.6259259259259257\n",
      "acc on holdout\n",
      " 0.4\n",
      "avg acc in train1 set\n",
      " 0.5833333333333334 \n",
      "\n",
      "\n",
      "amount_features 14\n",
      "['STD_fixation_length_Disgusted', 'avg_of_amount_fixation_Neutral', 'Ratio D/D+N', 'average_fixation_length_Disgusted', 'avg_of_amount_fixation_White_Space', 'STD_pupil_size_Disgusted', 'STD_pupil_size_All', 'avg_of_sum_fixation_length_White_Space', 'STD_pupil_size_White_Space', 'avg_of_sum_fixation_length_Neutral']\n"
     ]
    },
    {
     "name": "stderr",
     "output_type": "stream",
     "text": [
      "C:\\Anaconda\\lib\\site-packages\\sklearn\\model_selection\\_search.py:841: DeprecationWarning: The default of the `iid` parameter will change from True to False in version 0.22 and will be removed in 0.24. This will change numeric results when test-set sizes are unequal.\n",
      "  DeprecationWarning)\n"
     ]
    },
    {
     "name": "stdout",
     "output_type": "stream",
     "text": [
      "________________\n",
      "best params\n",
      " {'classifier__learning_rate': 0.2, 'classifier__max_depth': 7, 'classifier__n_estimators': 200}\n",
      "\n",
      "best score\n",
      " 0.6555555555555556\n",
      "avg acc in train2 set\n",
      " 0.5681481481481481\n",
      "acc on holdout\n",
      " 0.5\n",
      "avg acc in train1 set\n",
      " 0.572 \n",
      "\n",
      "\n",
      "amount_features 14\n",
      "['average_fixation_length_Disgusted', 'STD_pupil_size_Disgusted', 'avg_of_amount_fixation_White_Space', 'avg_of_sum_fixation_length_Neutral', 'Ratio D/D+N', 'avg_of_sum_fixation_length_White_Space', 'avg_of_amount_fixation_Neutral', 'STD_fixation_length_Disgusted', 'STD_pupil_size_White_Space', 'STD_pupil_size_All']\n"
     ]
    },
    {
     "name": "stderr",
     "output_type": "stream",
     "text": [
      "C:\\Anaconda\\lib\\site-packages\\sklearn\\model_selection\\_search.py:841: DeprecationWarning: The default of the `iid` parameter will change from True to False in version 0.22 and will be removed in 0.24. This will change numeric results when test-set sizes are unequal.\n",
      "  DeprecationWarning)\n"
     ]
    },
    {
     "name": "stdout",
     "output_type": "stream",
     "text": [
      "________________\n",
      "best params\n",
      " {'classifier__learning_rate': 0.15, 'classifier__max_depth': 4, 'classifier__n_estimators': 200}\n",
      "\n",
      "best score\n",
      " 0.6222222222222222\n",
      "avg acc in train2 set\n",
      " 0.5622222222222221\n",
      "acc on holdout\n",
      " 0.4\n",
      "avg acc in train1 set\n",
      " 0.588 \n",
      "\n",
      "\n",
      "amount_features 14\n",
      "['average_fixation_length_Disgusted', 'avg_of_sum_fixation_length_White_Space', 'STD_pupil_size_All', 'Ratio D/D+N', 'STD_pupil_size_Disgusted', 'avg_of_amount_fixation_Neutral', 'avg_of_sum_fixation_length_Neutral', 'STD_fixation_length_Disgusted', 'avg_of_amount_fixation_White_Space', 'STD_pupil_size_White_Space']\n"
     ]
    },
    {
     "name": "stderr",
     "output_type": "stream",
     "text": [
      "C:\\Anaconda\\lib\\site-packages\\sklearn\\model_selection\\_search.py:841: DeprecationWarning: The default of the `iid` parameter will change from True to False in version 0.22 and will be removed in 0.24. This will change numeric results when test-set sizes are unequal.\n",
      "  DeprecationWarning)\n"
     ]
    },
    {
     "name": "stdout",
     "output_type": "stream",
     "text": [
      "________________\n",
      "best params\n",
      " {'classifier__learning_rate': 0.05, 'classifier__max_depth': 3, 'classifier__n_estimators': 100}\n",
      "\n",
      "best score\n",
      " 0.6222222222222222\n",
      "avg acc in train2 set\n",
      " 0.5948148148148147\n",
      "acc on holdout\n",
      " 0.7\n",
      "avg acc in train1 set\n",
      " 0.6006666666666666 \n",
      "\n",
      "\n",
      "amount_features 14\n",
      "['avg_of_amount_fixation_Neutral', 'STD_fixation_length_Disgusted', 'STD_pupil_size_All', 'avg_of_amount_fixation_White_Space', 'Ratio D/D+N', 'STD_pupil_size_Disgusted', 'STD_pupil_size_White_Space', 'avg_of_sum_fixation_length_White_Space', 'avg_of_sum_fixation_length_Neutral', 'average_fixation_length_Disgusted']\n"
     ]
    },
    {
     "name": "stderr",
     "output_type": "stream",
     "text": [
      "C:\\Anaconda\\lib\\site-packages\\sklearn\\model_selection\\_search.py:841: DeprecationWarning: The default of the `iid` parameter will change from True to False in version 0.22 and will be removed in 0.24. This will change numeric results when test-set sizes are unequal.\n",
      "  DeprecationWarning)\n"
     ]
    },
    {
     "name": "stdout",
     "output_type": "stream",
     "text": [
      "________________\n",
      "best params\n",
      " {'classifier__learning_rate': 0.1, 'classifier__max_depth': 7, 'classifier__n_estimators': 100}\n",
      "\n",
      "best score\n",
      " 0.6222222222222222\n",
      "avg acc in train2 set\n",
      " 0.5162962962962963\n",
      "acc on holdout\n",
      " 0.5\n",
      "avg acc in train1 set\n",
      " 0.598 \n",
      "\n",
      "\n",
      "amount_features 14\n",
      "['STD_pupil_size_All', 'STD_pupil_size_Disgusted', 'avg_of_sum_fixation_length_White_Space', 'Ratio D/D+N', 'average_fixation_length_Disgusted', 'avg_of_amount_fixation_Neutral', 'STD_pupil_size_White_Space', 'avg_of_sum_fixation_length_Neutral', 'avg_of_amount_fixation_White_Space', 'STD_fixation_length_Disgusted']\n"
     ]
    },
    {
     "name": "stderr",
     "output_type": "stream",
     "text": [
      "C:\\Anaconda\\lib\\site-packages\\sklearn\\model_selection\\_search.py:841: DeprecationWarning: The default of the `iid` parameter will change from True to False in version 0.22 and will be removed in 0.24. This will change numeric results when test-set sizes are unequal.\n",
      "  DeprecationWarning)\n"
     ]
    },
    {
     "name": "stdout",
     "output_type": "stream",
     "text": [
      "________________\n",
      "best params\n",
      " {'classifier__learning_rate': 0.1, 'classifier__max_depth': 3, 'classifier__n_estimators': 75}\n",
      "\n",
      "best score\n",
      " 0.5666666666666667\n",
      "avg acc in train2 set\n",
      " 0.48814814814814816\n",
      "acc on holdout\n",
      " 0.8\n",
      "avg acc in train1 set\n",
      " 0.5826666666666667 \n",
      "\n",
      "\n",
      "amount_features 14\n",
      "['avg_of_sum_fixation_length_White_Space', 'Ratio D/D+N', 'STD_pupil_size_Disgusted', 'STD_pupil_size_White_Space', 'average_fixation_length_Disgusted', 'avg_of_sum_fixation_length_Neutral', 'STD_fixation_length_Disgusted', 'avg_of_amount_fixation_White_Space', 'STD_pupil_size_All', 'avg_of_amount_fixation_Neutral']\n"
     ]
    },
    {
     "name": "stderr",
     "output_type": "stream",
     "text": [
      "C:\\Anaconda\\lib\\site-packages\\sklearn\\model_selection\\_search.py:841: DeprecationWarning: The default of the `iid` parameter will change from True to False in version 0.22 and will be removed in 0.24. This will change numeric results when test-set sizes are unequal.\n",
      "  DeprecationWarning)\n"
     ]
    },
    {
     "name": "stdout",
     "output_type": "stream",
     "text": [
      "________________\n",
      "best params\n",
      " {'classifier__learning_rate': 0.1, 'classifier__max_depth': 5, 'classifier__n_estimators': 100}\n",
      "\n",
      "best score\n",
      " 0.6111111111111112\n",
      "avg acc in train2 set\n",
      " 0.5844444444444442\n",
      "acc on holdout\n",
      " 0.4\n",
      "avg acc in train1 set\n",
      " 0.6146666666666667 \n",
      "\n",
      "\n",
      "amount_features 14\n",
      "['STD_pupil_size_Disgusted', 'avg_of_amount_fixation_Neutral', 'STD_pupil_size_White_Space', 'avg_of_sum_fixation_length_White_Space', 'avg_of_amount_fixation_White_Space', 'average_fixation_length_Disgusted', 'Ratio D/D+N', 'STD_pupil_size_All', 'STD_fixation_length_Disgusted', 'avg_of_sum_fixation_length_Neutral']\n"
     ]
    },
    {
     "name": "stderr",
     "output_type": "stream",
     "text": [
      "C:\\Anaconda\\lib\\site-packages\\sklearn\\model_selection\\_search.py:841: DeprecationWarning: The default of the `iid` parameter will change from True to False in version 0.22 and will be removed in 0.24. This will change numeric results when test-set sizes are unequal.\n",
      "  DeprecationWarning)\n"
     ]
    },
    {
     "name": "stdout",
     "output_type": "stream",
     "text": [
      "________________\n",
      "best params\n",
      " {'classifier__learning_rate': 0.1, 'classifier__max_depth': 7, 'classifier__n_estimators': 75}\n",
      "\n",
      "best score\n",
      " 0.6666666666666666\n",
      "avg acc in train2 set\n",
      " 0.5074074074074074\n",
      "acc on holdout\n",
      " 0.8\n",
      "avg acc in train1 set\n",
      " 0.6046666666666667 \n",
      "\n",
      "\n",
      "amount_features 14\n",
      "['avg_of_sum_fixation_length_Neutral', 'STD_pupil_size_White_Space', 'average_fixation_length_Disgusted', 'STD_fixation_length_Disgusted', 'avg_of_sum_fixation_length_White_Space', 'STD_pupil_size_Disgusted', 'Ratio D/D+N', 'avg_of_amount_fixation_White_Space', 'avg_of_amount_fixation_Neutral', 'STD_pupil_size_All']\n"
     ]
    },
    {
     "name": "stderr",
     "output_type": "stream",
     "text": [
      "C:\\Anaconda\\lib\\site-packages\\sklearn\\model_selection\\_search.py:841: DeprecationWarning: The default of the `iid` parameter will change from True to False in version 0.22 and will be removed in 0.24. This will change numeric results when test-set sizes are unequal.\n",
      "  DeprecationWarning)\n"
     ]
    },
    {
     "name": "stdout",
     "output_type": "stream",
     "text": [
      "________________\n",
      "best params\n",
      " {'classifier__learning_rate': 0.05, 'classifier__max_depth': 3, 'classifier__n_estimators': 100}\n",
      "\n",
      "best score\n",
      " 0.6555555555555556\n",
      "avg acc in train2 set\n",
      " 0.6177777777777776\n",
      "acc on holdout\n",
      " 0.6\n",
      "avg acc in train1 set\n",
      " 0.6060000000000001 \n",
      "\n",
      "\n",
      "amount_features 14\n",
      "['avg_of_amount_fixation_White_Space', 'Ratio D/D+N', 'STD_fixation_length_Disgusted', 'STD_pupil_size_Disgusted', 'avg_of_sum_fixation_length_Neutral', 'STD_pupil_size_All', 'avg_of_sum_fixation_length_White_Space', 'STD_pupil_size_White_Space', 'average_fixation_length_Disgusted', 'avg_of_amount_fixation_Neutral']\n"
     ]
    },
    {
     "name": "stderr",
     "output_type": "stream",
     "text": [
      "C:\\Anaconda\\lib\\site-packages\\sklearn\\model_selection\\_search.py:841: DeprecationWarning: The default of the `iid` parameter will change from True to False in version 0.22 and will be removed in 0.24. This will change numeric results when test-set sizes are unequal.\n",
      "  DeprecationWarning)\n"
     ]
    },
    {
     "name": "stdout",
     "output_type": "stream",
     "text": [
      "________________\n",
      "best params\n",
      " {'classifier__learning_rate': 0.2, 'classifier__max_depth': 7, 'classifier__n_estimators': 75}\n",
      "\n",
      "best score\n",
      " 0.6666666666666666\n",
      "avg acc in train2 set\n",
      " 0.5059259259259259\n",
      "acc on holdout\n",
      " 0.7\n",
      "avg acc in train1 set\n",
      " 0.5726666666666667 \n",
      "\n",
      "\n",
      "amount_features 14\n",
      "['avg_of_sum_fixation_length_Neutral', 'STD_pupil_size_White_Space', 'STD_pupil_size_Disgusted', 'avg_of_amount_fixation_Neutral', 'Ratio D/D+N', 'average_fixation_length_Disgusted', 'STD_pupil_size_All', 'STD_fixation_length_Disgusted', 'avg_of_amount_fixation_White_Space', 'avg_of_sum_fixation_length_White_Space']\n"
     ]
    },
    {
     "name": "stderr",
     "output_type": "stream",
     "text": [
      "C:\\Anaconda\\lib\\site-packages\\sklearn\\model_selection\\_search.py:841: DeprecationWarning: The default of the `iid` parameter will change from True to False in version 0.22 and will be removed in 0.24. This will change numeric results when test-set sizes are unequal.\n",
      "  DeprecationWarning)\n"
     ]
    },
    {
     "name": "stdout",
     "output_type": "stream",
     "text": [
      "________________\n",
      "best params\n",
      " {'classifier__learning_rate': 0.1, 'classifier__max_depth': 6, 'classifier__n_estimators': 200}\n",
      "\n",
      "best score\n",
      " 0.6555555555555556\n",
      "avg acc in train2 set\n",
      " 0.585185185185185\n",
      "acc on holdout\n",
      " 0.6\n",
      "avg acc in train1 set\n",
      " 0.5926666666666666 \n",
      "\n",
      "\n",
      "amount_features 14\n",
      "['STD_fixation_length_Disgusted', 'average_fixation_length_Disgusted', 'avg_of_amount_fixation_White_Space', 'avg_of_sum_fixation_length_Neutral', 'STD_pupil_size_All', 'STD_pupil_size_White_Space', 'Ratio D/D+N', 'STD_pupil_size_Disgusted', 'avg_of_sum_fixation_length_White_Space', 'avg_of_amount_fixation_Neutral']\n"
     ]
    },
    {
     "name": "stderr",
     "output_type": "stream",
     "text": [
      "C:\\Anaconda\\lib\\site-packages\\sklearn\\model_selection\\_search.py:841: DeprecationWarning: The default of the `iid` parameter will change from True to False in version 0.22 and will be removed in 0.24. This will change numeric results when test-set sizes are unequal.\n",
      "  DeprecationWarning)\n"
     ]
    },
    {
     "name": "stdout",
     "output_type": "stream",
     "text": [
      "________________\n",
      "best params\n",
      " {'classifier__learning_rate': 0.1, 'classifier__max_depth': 7, 'classifier__n_estimators': 100}\n",
      "\n",
      "best score\n",
      " 0.6\n",
      "avg acc in train2 set\n",
      " 0.47111111111111115\n",
      "acc on holdout\n",
      " 0.6\n",
      "avg acc in train1 set\n",
      " 0.5913333333333332 \n",
      "\n",
      "\n",
      "amount_features 16\n",
      "['STD_pupil_size_All', 'avg_of_amount_fixation_White_Space', 'STD_fixation_length_Disgusted', 'STD_pupil_size_Disgusted', 'STD_pupil_size_White_Space', 'avg_of_amount_fixation_Neutral', 'Ratio D/D+N', 'average_fixation_length_Disgusted', 'avg_of_sum_fixation_length_White_Space', 'avg_of_sum_fixation_length_Neutral']\n"
     ]
    },
    {
     "name": "stderr",
     "output_type": "stream",
     "text": [
      "C:\\Anaconda\\lib\\site-packages\\sklearn\\model_selection\\_search.py:841: DeprecationWarning: The default of the `iid` parameter will change from True to False in version 0.22 and will be removed in 0.24. This will change numeric results when test-set sizes are unequal.\n",
      "  DeprecationWarning)\n"
     ]
    },
    {
     "name": "stdout",
     "output_type": "stream",
     "text": [
      "________________\n",
      "best params\n",
      " {'classifier__learning_rate': 0.05, 'classifier__max_depth': 4, 'classifier__n_estimators': 100}\n",
      "\n",
      "best score\n",
      " 0.6222222222222222\n",
      "avg acc in train2 set\n",
      " 0.5488888888888889\n",
      "acc on holdout\n",
      " 1.0\n",
      "avg acc in train1 set\n",
      " 0.6053333333333334 \n",
      "\n",
      "\n",
      "amount_features 16\n",
      "['avg_of_amount_fixation_White_Space', 'STD_fixation_length_Disgusted', 'Ratio D/D+N', 'avg_of_amount_fixation_Neutral', 'average_fixation_length_Disgusted', 'avg_of_sum_fixation_length_Neutral', 'avg_of_sum_fixation_length_White_Space', 'STD_pupil_size_All', 'STD_pupil_size_White_Space', 'STD_pupil_size_Disgusted']\n"
     ]
    },
    {
     "name": "stderr",
     "output_type": "stream",
     "text": [
      "C:\\Anaconda\\lib\\site-packages\\sklearn\\model_selection\\_search.py:841: DeprecationWarning: The default of the `iid` parameter will change from True to False in version 0.22 and will be removed in 0.24. This will change numeric results when test-set sizes are unequal.\n",
      "  DeprecationWarning)\n"
     ]
    },
    {
     "name": "stdout",
     "output_type": "stream",
     "text": [
      "________________\n",
      "best params\n",
      " {'classifier__learning_rate': 0.2, 'classifier__max_depth': 7, 'classifier__n_estimators': 200}\n",
      "\n",
      "best score\n",
      " 0.6111111111111112\n",
      "avg acc in train2 set\n",
      " 0.5629629629629629\n",
      "acc on holdout\n",
      " 0.5\n",
      "avg acc in train1 set\n",
      " 0.572 \n",
      "\n",
      "\n",
      "amount_features 16\n",
      "['avg_of_amount_fixation_White_Space', 'avg_of_amount_fixation_Neutral', 'avg_of_sum_fixation_length_Neutral', 'Ratio D/D+N', 'avg_of_sum_fixation_length_White_Space', 'STD_pupil_size_White_Space', 'STD_pupil_size_Disgusted', 'STD_pupil_size_All', 'average_fixation_length_Disgusted', 'STD_fixation_length_Disgusted']\n"
     ]
    },
    {
     "name": "stderr",
     "output_type": "stream",
     "text": [
      "C:\\Anaconda\\lib\\site-packages\\sklearn\\model_selection\\_search.py:841: DeprecationWarning: The default of the `iid` parameter will change from True to False in version 0.22 and will be removed in 0.24. This will change numeric results when test-set sizes are unequal.\n",
      "  DeprecationWarning)\n"
     ]
    },
    {
     "name": "stdout",
     "output_type": "stream",
     "text": [
      "________________\n",
      "best params\n",
      " {'classifier__learning_rate': 0.05, 'classifier__max_depth': 6, 'classifier__n_estimators': 100}\n",
      "\n",
      "best score\n",
      " 0.5777777777777777\n",
      "avg acc in train2 set\n",
      " 0.5274074074074073\n",
      "acc on holdout\n",
      " 0.7\n",
      "avg acc in train1 set\n",
      " 0.6166666666666667 \n",
      "\n",
      "\n",
      "amount_features 16\n",
      "['STD_pupil_size_All', 'avg_of_sum_fixation_length_White_Space', 'average_fixation_length_Disgusted', 'avg_of_amount_fixation_Neutral', 'STD_pupil_size_Disgusted', 'Ratio D/D+N', 'STD_pupil_size_White_Space', 'STD_fixation_length_Disgusted', 'avg_of_amount_fixation_White_Space', 'avg_of_sum_fixation_length_Neutral']\n"
     ]
    },
    {
     "name": "stderr",
     "output_type": "stream",
     "text": [
      "C:\\Anaconda\\lib\\site-packages\\sklearn\\model_selection\\_search.py:841: DeprecationWarning: The default of the `iid` parameter will change from True to False in version 0.22 and will be removed in 0.24. This will change numeric results when test-set sizes are unequal.\n",
      "  DeprecationWarning)\n"
     ]
    },
    {
     "name": "stdout",
     "output_type": "stream",
     "text": [
      "________________\n",
      "best params\n",
      " {'classifier__learning_rate': 0.1, 'classifier__max_depth': 4, 'classifier__n_estimators': 200}\n",
      "\n",
      "best score\n",
      " 0.6555555555555556\n",
      "avg acc in train2 set\n",
      " 0.574074074074074\n",
      "acc on holdout\n",
      " 0.5\n",
      "avg acc in train1 set\n",
      " 0.602 \n",
      "\n",
      "\n",
      "amount_features 16\n",
      "['STD_fixation_length_Disgusted', 'STD_pupil_size_All', 'avg_of_amount_fixation_Neutral', 'avg_of_amount_fixation_White_Space', 'avg_of_sum_fixation_length_Neutral', 'STD_pupil_size_White_Space', 'average_fixation_length_Disgusted', 'avg_of_sum_fixation_length_White_Space', 'Ratio D/D+N', 'STD_pupil_size_Disgusted']\n"
     ]
    },
    {
     "name": "stderr",
     "output_type": "stream",
     "text": [
      "C:\\Anaconda\\lib\\site-packages\\sklearn\\model_selection\\_search.py:841: DeprecationWarning: The default of the `iid` parameter will change from True to False in version 0.22 and will be removed in 0.24. This will change numeric results when test-set sizes are unequal.\n",
      "  DeprecationWarning)\n"
     ]
    },
    {
     "name": "stdout",
     "output_type": "stream",
     "text": [
      "________________\n",
      "best params\n",
      " {'classifier__learning_rate': 0.2, 'classifier__max_depth': 7, 'classifier__n_estimators': 200}\n",
      "\n",
      "best score\n",
      " 0.6111111111111112\n",
      "avg acc in train2 set\n",
      " 0.5718518518518517\n",
      "acc on holdout\n",
      " 0.4\n",
      "avg acc in train1 set\n",
      " 0.5713333333333334 \n",
      "\n",
      "\n",
      "amount_features 16\n",
      "['STD_fixation_length_Disgusted', 'avg_of_sum_fixation_length_White_Space', 'STD_pupil_size_All', 'STD_pupil_size_White_Space', 'avg_of_sum_fixation_length_Neutral', 'avg_of_amount_fixation_Neutral', 'STD_pupil_size_Disgusted', 'Ratio D/D+N', 'avg_of_amount_fixation_White_Space', 'average_fixation_length_Disgusted']\n"
     ]
    },
    {
     "name": "stderr",
     "output_type": "stream",
     "text": [
      "C:\\Anaconda\\lib\\site-packages\\sklearn\\model_selection\\_search.py:841: DeprecationWarning: The default of the `iid` parameter will change from True to False in version 0.22 and will be removed in 0.24. This will change numeric results when test-set sizes are unequal.\n",
      "  DeprecationWarning)\n"
     ]
    },
    {
     "name": "stdout",
     "output_type": "stream",
     "text": [
      "________________\n",
      "best params\n",
      " {'classifier__learning_rate': 0.15, 'classifier__max_depth': 7, 'classifier__n_estimators': 75}\n",
      "\n",
      "best score\n",
      " 0.6222222222222222\n",
      "avg acc in train2 set\n",
      " 0.5925925925925923\n",
      "acc on holdout\n",
      " 0.5\n",
      "avg acc in train1 set\n",
      " 0.5813333333333334 \n",
      "\n",
      "\n",
      "amount_features 16\n",
      "['STD_pupil_size_White_Space', 'avg_of_sum_fixation_length_White_Space', 'avg_of_amount_fixation_White_Space', 'avg_of_amount_fixation_Neutral', 'Ratio D/D+N', 'avg_of_sum_fixation_length_Neutral', 'average_fixation_length_Disgusted', 'STD_pupil_size_Disgusted', 'STD_fixation_length_Disgusted', 'STD_pupil_size_All']\n"
     ]
    },
    {
     "name": "stderr",
     "output_type": "stream",
     "text": [
      "C:\\Anaconda\\lib\\site-packages\\sklearn\\model_selection\\_search.py:841: DeprecationWarning: The default of the `iid` parameter will change from True to False in version 0.22 and will be removed in 0.24. This will change numeric results when test-set sizes are unequal.\n",
      "  DeprecationWarning)\n"
     ]
    },
    {
     "name": "stdout",
     "output_type": "stream",
     "text": [
      "________________\n",
      "best params\n",
      " {'classifier__learning_rate': 0.2, 'classifier__max_depth': 6, 'classifier__n_estimators': 100}\n",
      "\n",
      "best score\n",
      " 0.7555555555555555\n",
      "avg acc in train2 set\n",
      " 0.7385185185185184\n",
      "acc on holdout\n",
      " 0.4\n",
      "avg acc in train1 set\n",
      " 0.5593333333333333 \n",
      "\n",
      "\n",
      "amount_features 16\n",
      "['avg_of_amount_fixation_White_Space', 'STD_pupil_size_White_Space', 'STD_pupil_size_All', 'Ratio D/D+N', 'avg_of_sum_fixation_length_Neutral', 'average_fixation_length_Disgusted', 'STD_fixation_length_Disgusted', 'avg_of_sum_fixation_length_White_Space', 'STD_pupil_size_Disgusted', 'avg_of_amount_fixation_Neutral']\n"
     ]
    },
    {
     "name": "stderr",
     "output_type": "stream",
     "text": [
      "C:\\Anaconda\\lib\\site-packages\\sklearn\\model_selection\\_search.py:841: DeprecationWarning: The default of the `iid` parameter will change from True to False in version 0.22 and will be removed in 0.24. This will change numeric results when test-set sizes are unequal.\n",
      "  DeprecationWarning)\n"
     ]
    },
    {
     "name": "stdout",
     "output_type": "stream",
     "text": [
      "________________\n",
      "best params\n",
      " {'classifier__learning_rate': 0.05, 'classifier__max_depth': 3, 'classifier__n_estimators': 150}\n",
      "\n",
      "best score\n",
      " 0.6666666666666666\n",
      "avg acc in train2 set\n",
      " 0.5866666666666666\n",
      "acc on holdout\n",
      " 0.5\n",
      "avg acc in train1 set\n",
      " 0.6073333333333332 \n",
      "\n",
      "\n",
      "amount_features 16\n",
      "['avg_of_sum_fixation_length_White_Space', 'STD_pupil_size_Disgusted', 'avg_of_amount_fixation_White_Space', 'Ratio D/D+N', 'STD_fixation_length_Disgusted', 'average_fixation_length_Disgusted', 'avg_of_amount_fixation_Neutral', 'STD_pupil_size_White_Space', 'avg_of_sum_fixation_length_Neutral', 'STD_pupil_size_All']\n"
     ]
    },
    {
     "name": "stderr",
     "output_type": "stream",
     "text": [
      "C:\\Anaconda\\lib\\site-packages\\sklearn\\model_selection\\_search.py:841: DeprecationWarning: The default of the `iid` parameter will change from True to False in version 0.22 and will be removed in 0.24. This will change numeric results when test-set sizes are unequal.\n",
      "  DeprecationWarning)\n"
     ]
    },
    {
     "name": "stdout",
     "output_type": "stream",
     "text": [
      "________________\n",
      "best params\n",
      " {'classifier__learning_rate': 0.15, 'classifier__max_depth': 4, 'classifier__n_estimators': 75}\n",
      "\n",
      "best score\n",
      " 0.5555555555555556\n",
      "avg acc in train2 set\n",
      " 0.5385185185185185\n",
      "acc on holdout\n",
      " 0.7\n",
      "avg acc in train1 set\n",
      " 0.5686666666666667 \n",
      "\n",
      "\n",
      "amount_features 16\n",
      "['STD_fixation_length_Disgusted', 'avg_of_amount_fixation_White_Space', 'avg_of_sum_fixation_length_Neutral', 'average_fixation_length_Disgusted', 'STD_pupil_size_Disgusted', 'avg_of_sum_fixation_length_White_Space', 'avg_of_amount_fixation_Neutral', 'STD_pupil_size_All', 'STD_pupil_size_White_Space', 'Ratio D/D+N']\n"
     ]
    },
    {
     "name": "stderr",
     "output_type": "stream",
     "text": [
      "C:\\Anaconda\\lib\\site-packages\\sklearn\\model_selection\\_search.py:841: DeprecationWarning: The default of the `iid` parameter will change from True to False in version 0.22 and will be removed in 0.24. This will change numeric results when test-set sizes are unequal.\n",
      "  DeprecationWarning)\n"
     ]
    },
    {
     "name": "stdout",
     "output_type": "stream",
     "text": [
      "________________\n",
      "best params\n",
      " {'classifier__learning_rate': 0.15, 'classifier__max_depth': 2, 'classifier__n_estimators': 75}\n",
      "\n",
      "best score\n",
      " 0.6444444444444445\n",
      "avg acc in train2 set\n",
      " 0.5125925925925926\n",
      "acc on holdout\n",
      " 0.5\n",
      "avg acc in train1 set\n",
      " 0.5513333333333333 \n",
      "\n",
      "\n",
      "amount_features 16\n",
      "['STD_pupil_size_White_Space', 'avg_of_sum_fixation_length_Neutral', 'Ratio D/D+N', 'avg_of_amount_fixation_Neutral', 'STD_pupil_size_All', 'average_fixation_length_Disgusted', 'avg_of_amount_fixation_White_Space', 'avg_of_sum_fixation_length_White_Space', 'STD_pupil_size_Disgusted', 'STD_fixation_length_Disgusted']\n"
     ]
    },
    {
     "name": "stderr",
     "output_type": "stream",
     "text": [
      "C:\\Anaconda\\lib\\site-packages\\sklearn\\model_selection\\_search.py:841: DeprecationWarning: The default of the `iid` parameter will change from True to False in version 0.22 and will be removed in 0.24. This will change numeric results when test-set sizes are unequal.\n",
      "  DeprecationWarning)\n"
     ]
    },
    {
     "name": "stdout",
     "output_type": "stream",
     "text": [
      "________________\n",
      "best params\n",
      " {'classifier__learning_rate': 0.05, 'classifier__max_depth': 2, 'classifier__n_estimators': 75}\n",
      "\n",
      "best score\n",
      " 0.6111111111111112\n",
      "avg acc in train2 set\n",
      " 0.534074074074074\n",
      "acc on holdout\n",
      " 0.5\n",
      "avg acc in train1 set\n",
      " 0.5846666666666667 \n",
      "\n",
      "\n",
      "amount_features 16\n",
      "['avg_of_amount_fixation_White_Space', 'average_fixation_length_Disgusted', 'avg_of_sum_fixation_length_White_Space', 'avg_of_sum_fixation_length_Neutral', 'STD_pupil_size_Disgusted', 'Ratio D/D+N', 'STD_pupil_size_All', 'STD_fixation_length_Disgusted', 'avg_of_amount_fixation_Neutral', 'STD_pupil_size_White_Space']\n"
     ]
    },
    {
     "name": "stderr",
     "output_type": "stream",
     "text": [
      "C:\\Anaconda\\lib\\site-packages\\sklearn\\model_selection\\_search.py:841: DeprecationWarning: The default of the `iid` parameter will change from True to False in version 0.22 and will be removed in 0.24. This will change numeric results when test-set sizes are unequal.\n",
      "  DeprecationWarning)\n"
     ]
    },
    {
     "name": "stdout",
     "output_type": "stream",
     "text": [
      "________________\n",
      "best params\n",
      " {'classifier__learning_rate': 0.1, 'classifier__max_depth': 7, 'classifier__n_estimators': 200}\n",
      "\n",
      "best score\n",
      " 0.6222222222222222\n",
      "avg acc in train2 set\n",
      " 0.5718518518518517\n",
      "acc on holdout\n",
      " 0.5\n",
      "avg acc in train1 set\n",
      " 0.5893333333333334 \n",
      "\n",
      "\n",
      "amount_features 16\n",
      "['STD_pupil_size_Disgusted', 'avg_of_sum_fixation_length_White_Space', 'Ratio D/D+N', 'STD_fixation_length_Disgusted', 'average_fixation_length_Disgusted', 'STD_pupil_size_All', 'avg_of_amount_fixation_Neutral', 'STD_pupil_size_White_Space', 'avg_of_sum_fixation_length_Neutral', 'avg_of_amount_fixation_White_Space']\n"
     ]
    },
    {
     "name": "stderr",
     "output_type": "stream",
     "text": [
      "C:\\Anaconda\\lib\\site-packages\\sklearn\\model_selection\\_search.py:841: DeprecationWarning: The default of the `iid` parameter will change from True to False in version 0.22 and will be removed in 0.24. This will change numeric results when test-set sizes are unequal.\n",
      "  DeprecationWarning)\n"
     ]
    },
    {
     "name": "stdout",
     "output_type": "stream",
     "text": [
      "________________\n",
      "best params\n",
      " {'classifier__learning_rate': 0.05, 'classifier__max_depth': 4, 'classifier__n_estimators': 150}\n",
      "\n",
      "best score\n",
      " 0.6222222222222222\n",
      "avg acc in train2 set\n",
      " 0.588148148148148\n",
      "acc on holdout\n",
      " 0.4\n",
      "avg acc in train1 set\n",
      " 0.6113333333333333 \n",
      "\n",
      "\n",
      "amount_features 16\n",
      "['STD_pupil_size_Disgusted', 'avg_of_sum_fixation_length_White_Space', 'STD_pupil_size_All', 'STD_pupil_size_White_Space', 'average_fixation_length_Disgusted', 'avg_of_amount_fixation_Neutral', 'avg_of_sum_fixation_length_Neutral', 'STD_fixation_length_Disgusted', 'avg_of_amount_fixation_White_Space', 'Ratio D/D+N']\n"
     ]
    },
    {
     "name": "stderr",
     "output_type": "stream",
     "text": [
      "C:\\Anaconda\\lib\\site-packages\\sklearn\\model_selection\\_search.py:841: DeprecationWarning: The default of the `iid` parameter will change from True to False in version 0.22 and will be removed in 0.24. This will change numeric results when test-set sizes are unequal.\n",
      "  DeprecationWarning)\n"
     ]
    },
    {
     "name": "stdout",
     "output_type": "stream",
     "text": [
      "________________\n",
      "best params\n",
      " {'classifier__learning_rate': 0.2, 'classifier__max_depth': 7, 'classifier__n_estimators': 200}\n",
      "\n",
      "best score\n",
      " 0.6555555555555556\n",
      "avg acc in train2 set\n",
      " 0.6496296296296297\n",
      "acc on holdout\n",
      " 0.5\n",
      "avg acc in train1 set\n",
      " 0.5773333333333335 \n",
      "\n",
      "\n",
      "amount_features 16\n",
      "['average_fixation_length_Disgusted', 'STD_pupil_size_White_Space', 'avg_of_amount_fixation_White_Space', 'STD_fixation_length_Disgusted', 'Ratio D/D+N', 'STD_pupil_size_Disgusted', 'STD_pupil_size_All', 'avg_of_amount_fixation_Neutral', 'avg_of_sum_fixation_length_Neutral', 'avg_of_sum_fixation_length_White_Space']\n"
     ]
    },
    {
     "name": "stderr",
     "output_type": "stream",
     "text": [
      "C:\\Anaconda\\lib\\site-packages\\sklearn\\model_selection\\_search.py:841: DeprecationWarning: The default of the `iid` parameter will change from True to False in version 0.22 and will be removed in 0.24. This will change numeric results when test-set sizes are unequal.\n",
      "  DeprecationWarning)\n"
     ]
    },
    {
     "name": "stdout",
     "output_type": "stream",
     "text": [
      "________________\n",
      "best params\n",
      " {'classifier__learning_rate': 0.05, 'classifier__max_depth': 6, 'classifier__n_estimators': 200}\n",
      "\n",
      "best score\n",
      " 0.6444444444444445\n",
      "avg acc in train2 set\n",
      " 0.5688888888888888\n",
      "acc on holdout\n",
      " 0.5\n",
      "avg acc in train1 set\n",
      " 0.5813333333333334 \n",
      "\n",
      "\n",
      "amount_features 16\n",
      "['avg_of_amount_fixation_Neutral', 'avg_of_sum_fixation_length_Neutral', 'STD_pupil_size_White_Space', 'STD_pupil_size_All', 'STD_fixation_length_Disgusted', 'average_fixation_length_Disgusted', 'Ratio D/D+N', 'avg_of_sum_fixation_length_White_Space', 'STD_pupil_size_Disgusted', 'avg_of_amount_fixation_White_Space']\n"
     ]
    },
    {
     "name": "stderr",
     "output_type": "stream",
     "text": [
      "C:\\Anaconda\\lib\\site-packages\\sklearn\\model_selection\\_search.py:841: DeprecationWarning: The default of the `iid` parameter will change from True to False in version 0.22 and will be removed in 0.24. This will change numeric results when test-set sizes are unequal.\n",
      "  DeprecationWarning)\n"
     ]
    },
    {
     "name": "stdout",
     "output_type": "stream",
     "text": [
      "________________\n",
      "best params\n",
      " {'classifier__learning_rate': 0.05, 'classifier__max_depth': 4, 'classifier__n_estimators': 75}\n",
      "\n",
      "best score\n",
      " 0.7\n",
      "avg acc in train2 set\n",
      " 0.6340740740740741\n",
      "acc on holdout\n",
      " 0.5\n",
      "avg acc in train1 set\n",
      " 0.5946666666666667 \n",
      "\n",
      "\n",
      "amount_features 16\n",
      "['STD_pupil_size_All', 'Ratio D/D+N', 'STD_pupil_size_Disgusted', 'STD_pupil_size_White_Space', 'average_fixation_length_Disgusted', 'avg_of_amount_fixation_White_Space', 'avg_of_sum_fixation_length_White_Space', 'avg_of_amount_fixation_Neutral', 'avg_of_sum_fixation_length_Neutral', 'STD_fixation_length_Disgusted']\n"
     ]
    },
    {
     "name": "stderr",
     "output_type": "stream",
     "text": [
      "C:\\Anaconda\\lib\\site-packages\\sklearn\\model_selection\\_search.py:841: DeprecationWarning: The default of the `iid` parameter will change from True to False in version 0.22 and will be removed in 0.24. This will change numeric results when test-set sizes are unequal.\n",
      "  DeprecationWarning)\n"
     ]
    },
    {
     "name": "stdout",
     "output_type": "stream",
     "text": [
      "________________\n",
      "best params\n",
      " {'classifier__learning_rate': 0.15, 'classifier__max_depth': 4, 'classifier__n_estimators': 200}\n",
      "\n",
      "best score\n",
      " 0.6888888888888889\n",
      "avg acc in train2 set\n",
      " 0.5999999999999999\n",
      "acc on holdout\n",
      " 0.6\n",
      "avg acc in train1 set\n",
      " 0.5846666666666667 \n",
      "\n",
      "\n",
      "amount_features 16\n",
      "['avg_of_amount_fixation_Neutral', 'STD_pupil_size_All', 'average_fixation_length_Disgusted', 'STD_pupil_size_White_Space', 'STD_fixation_length_Disgusted', 'Ratio D/D+N', 'avg_of_sum_fixation_length_Neutral', 'avg_of_amount_fixation_White_Space', 'STD_pupil_size_Disgusted', 'avg_of_sum_fixation_length_White_Space']\n"
     ]
    },
    {
     "name": "stderr",
     "output_type": "stream",
     "text": [
      "C:\\Anaconda\\lib\\site-packages\\sklearn\\model_selection\\_search.py:841: DeprecationWarning: The default of the `iid` parameter will change from True to False in version 0.22 and will be removed in 0.24. This will change numeric results when test-set sizes are unequal.\n",
      "  DeprecationWarning)\n"
     ]
    },
    {
     "name": "stdout",
     "output_type": "stream",
     "text": [
      "________________\n",
      "best params\n",
      " {'classifier__learning_rate': 0.1, 'classifier__max_depth': 3, 'classifier__n_estimators': 75}\n",
      "\n",
      "best score\n",
      " 0.6444444444444445\n",
      "avg acc in train2 set\n",
      " 0.6274074074074073\n",
      "acc on holdout\n",
      " 0.4\n",
      "avg acc in train1 set\n",
      " 0.582 \n",
      "\n",
      "\n",
      "amount_features 16\n",
      "['STD_pupil_size_White_Space', 'average_fixation_length_Disgusted', 'STD_pupil_size_All', 'STD_pupil_size_Disgusted', 'avg_of_sum_fixation_length_Neutral', 'avg_of_amount_fixation_Neutral', 'Ratio D/D+N', 'avg_of_sum_fixation_length_White_Space', 'STD_fixation_length_Disgusted', 'avg_of_amount_fixation_White_Space']\n"
     ]
    },
    {
     "name": "stderr",
     "output_type": "stream",
     "text": [
      "C:\\Anaconda\\lib\\site-packages\\sklearn\\model_selection\\_search.py:841: DeprecationWarning: The default of the `iid` parameter will change from True to False in version 0.22 and will be removed in 0.24. This will change numeric results when test-set sizes are unequal.\n",
      "  DeprecationWarning)\n"
     ]
    },
    {
     "name": "stdout",
     "output_type": "stream",
     "text": [
      "________________\n",
      "best params\n",
      " {'classifier__learning_rate': 0.05, 'classifier__max_depth': 7, 'classifier__n_estimators': 100}\n",
      "\n",
      "best score\n",
      " 0.6444444444444445\n",
      "avg acc in train2 set\n",
      " 0.6192592592592591\n",
      "acc on holdout\n",
      " 0.5\n",
      "avg acc in train1 set\n",
      " 0.6253333333333333 \n",
      "\n",
      "\n",
      "amount_features 16\n",
      "['avg_of_sum_fixation_length_White_Space', 'STD_pupil_size_White_Space', 'avg_of_amount_fixation_Neutral', 'avg_of_amount_fixation_White_Space', 'average_fixation_length_Disgusted', 'STD_pupil_size_Disgusted', 'STD_pupil_size_All', 'Ratio D/D+N', 'STD_fixation_length_Disgusted', 'avg_of_sum_fixation_length_Neutral']\n"
     ]
    },
    {
     "name": "stderr",
     "output_type": "stream",
     "text": [
      "C:\\Anaconda\\lib\\site-packages\\sklearn\\model_selection\\_search.py:841: DeprecationWarning: The default of the `iid` parameter will change from True to False in version 0.22 and will be removed in 0.24. This will change numeric results when test-set sizes are unequal.\n",
      "  DeprecationWarning)\n"
     ]
    },
    {
     "name": "stdout",
     "output_type": "stream",
     "text": [
      "________________\n",
      "best params\n",
      " {'classifier__learning_rate': 0.1, 'classifier__max_depth': 4, 'classifier__n_estimators': 100}\n",
      "\n",
      "best score\n",
      " 0.6\n",
      "avg acc in train2 set\n",
      " 0.5688888888888888\n",
      "acc on holdout\n",
      " 0.8\n",
      "avg acc in train1 set\n",
      " 0.588 \n",
      "\n",
      "\n",
      "amount_features 18\n",
      "['STD_pupil_size_All', 'avg_of_sum_fixation_length_White_Space', 'STD_pupil_size_Disgusted', 'STD_pupil_size_White_Space', 'average_fixation_length_Disgusted', 'Ratio D/D+N', 'STD_fixation_length_Disgusted', 'avg_of_sum_fixation_length_Neutral', 'avg_of_amount_fixation_White_Space', 'avg_of_amount_fixation_Neutral']\n"
     ]
    },
    {
     "name": "stderr",
     "output_type": "stream",
     "text": [
      "C:\\Anaconda\\lib\\site-packages\\sklearn\\model_selection\\_search.py:841: DeprecationWarning: The default of the `iid` parameter will change from True to False in version 0.22 and will be removed in 0.24. This will change numeric results when test-set sizes are unequal.\n",
      "  DeprecationWarning)\n"
     ]
    },
    {
     "name": "stdout",
     "output_type": "stream",
     "text": [
      "________________\n",
      "best params\n",
      " {'classifier__learning_rate': 0.2, 'classifier__max_depth': 7, 'classifier__n_estimators': 75}\n",
      "\n",
      "best score\n",
      " 0.6666666666666666\n",
      "avg acc in train2 set\n",
      " 0.5829629629629628\n",
      "acc on holdout\n",
      " 0.6\n",
      "avg acc in train1 set\n",
      " 0.5793333333333334 \n",
      "\n",
      "\n",
      "amount_features 18\n",
      "['avg_of_amount_fixation_Neutral', 'average_fixation_length_Disgusted', 'avg_of_sum_fixation_length_White_Space', 'STD_pupil_size_Disgusted', 'STD_pupil_size_White_Space', 'avg_of_sum_fixation_length_Neutral', 'Ratio D/D+N', 'STD_fixation_length_Disgusted', 'avg_of_amount_fixation_White_Space', 'STD_pupil_size_All']\n"
     ]
    },
    {
     "name": "stderr",
     "output_type": "stream",
     "text": [
      "C:\\Anaconda\\lib\\site-packages\\sklearn\\model_selection\\_search.py:841: DeprecationWarning: The default of the `iid` parameter will change from True to False in version 0.22 and will be removed in 0.24. This will change numeric results when test-set sizes are unequal.\n",
      "  DeprecationWarning)\n"
     ]
    },
    {
     "name": "stdout",
     "output_type": "stream",
     "text": [
      "________________\n",
      "best params\n",
      " {'classifier__learning_rate': 0.15, 'classifier__max_depth': 4, 'classifier__n_estimators': 75}\n",
      "\n",
      "best score\n",
      " 0.6444444444444445\n",
      "avg acc in train2 set\n",
      " 0.5770370370370369\n",
      "acc on holdout\n",
      " 0.7\n",
      "avg acc in train1 set\n",
      " 0.5606666666666666 \n",
      "\n",
      "\n",
      "amount_features 18\n",
      "['STD_pupil_size_All', 'STD_pupil_size_White_Space', 'STD_fixation_length_Disgusted', 'average_fixation_length_Disgusted', 'avg_of_amount_fixation_Neutral', 'avg_of_sum_fixation_length_Neutral', 'avg_of_sum_fixation_length_White_Space', 'STD_pupil_size_Disgusted', 'avg_of_amount_fixation_White_Space', 'Ratio D/D+N']\n"
     ]
    },
    {
     "name": "stderr",
     "output_type": "stream",
     "text": [
      "C:\\Anaconda\\lib\\site-packages\\sklearn\\model_selection\\_search.py:841: DeprecationWarning: The default of the `iid` parameter will change from True to False in version 0.22 and will be removed in 0.24. This will change numeric results when test-set sizes are unequal.\n",
      "  DeprecationWarning)\n"
     ]
    },
    {
     "name": "stdout",
     "output_type": "stream",
     "text": [
      "________________\n",
      "best params\n",
      " {'classifier__learning_rate': 0.05, 'classifier__max_depth': 4, 'classifier__n_estimators': 100}\n",
      "\n",
      "best score\n",
      " 0.6555555555555556\n",
      "avg acc in train2 set\n",
      " 0.6525925925925925\n",
      "acc on holdout\n",
      " 0.4\n",
      "avg acc in train1 set\n",
      " 0.6006666666666666 \n",
      "\n",
      "\n",
      "amount_features 18\n",
      "['avg_of_sum_fixation_length_White_Space', 'STD_pupil_size_Disgusted', 'avg_of_amount_fixation_Neutral', 'avg_of_amount_fixation_White_Space', 'avg_of_sum_fixation_length_Neutral', 'STD_pupil_size_White_Space', 'STD_fixation_length_Disgusted', 'STD_pupil_size_All', 'Ratio D/D+N', 'average_fixation_length_Disgusted']\n"
     ]
    },
    {
     "name": "stderr",
     "output_type": "stream",
     "text": [
      "C:\\Anaconda\\lib\\site-packages\\sklearn\\model_selection\\_search.py:841: DeprecationWarning: The default of the `iid` parameter will change from True to False in version 0.22 and will be removed in 0.24. This will change numeric results when test-set sizes are unequal.\n",
      "  DeprecationWarning)\n"
     ]
    },
    {
     "name": "stdout",
     "output_type": "stream",
     "text": [
      "________________\n",
      "best params\n",
      " {'classifier__learning_rate': 0.1, 'classifier__max_depth': 5, 'classifier__n_estimators': 75}\n",
      "\n",
      "best score\n",
      " 0.5888888888888889\n",
      "avg acc in train2 set\n",
      " 0.5318518518518518\n",
      "acc on holdout\n",
      " 0.6\n",
      "avg acc in train1 set\n",
      " 0.6073333333333333 \n",
      "\n",
      "\n",
      "amount_features 18\n",
      "['avg_of_sum_fixation_length_White_Space', 'Ratio D/D+N', 'avg_of_sum_fixation_length_Neutral', 'avg_of_amount_fixation_White_Space', 'avg_of_amount_fixation_Neutral', 'STD_pupil_size_All', 'average_fixation_length_Disgusted', 'STD_pupil_size_White_Space', 'STD_fixation_length_Disgusted', 'STD_pupil_size_Disgusted']\n"
     ]
    },
    {
     "name": "stderr",
     "output_type": "stream",
     "text": [
      "C:\\Anaconda\\lib\\site-packages\\sklearn\\model_selection\\_search.py:841: DeprecationWarning: The default of the `iid` parameter will change from True to False in version 0.22 and will be removed in 0.24. This will change numeric results when test-set sizes are unequal.\n",
      "  DeprecationWarning)\n"
     ]
    },
    {
     "name": "stdout",
     "output_type": "stream",
     "text": [
      "________________\n",
      "best params\n",
      " {'classifier__learning_rate': 0.05, 'classifier__max_depth': 7, 'classifier__n_estimators': 200}\n",
      "\n",
      "best score\n",
      " 0.5777777777777777\n",
      "avg acc in train2 set\n",
      " 0.5192592592592592\n",
      "acc on holdout\n",
      " 0.8\n",
      "avg acc in train1 set\n",
      " 0.6099999999999999 \n",
      "\n",
      "\n",
      "amount_features 18\n",
      "['avg_of_amount_fixation_White_Space', 'avg_of_amount_fixation_Neutral', 'avg_of_sum_fixation_length_White_Space', 'avg_of_sum_fixation_length_Neutral', 'average_fixation_length_Disgusted', 'STD_pupil_size_All', 'STD_pupil_size_Disgusted', 'STD_fixation_length_Disgusted', 'STD_pupil_size_White_Space', 'Ratio D/D+N']\n"
     ]
    },
    {
     "name": "stderr",
     "output_type": "stream",
     "text": [
      "C:\\Anaconda\\lib\\site-packages\\sklearn\\model_selection\\_search.py:841: DeprecationWarning: The default of the `iid` parameter will change from True to False in version 0.22 and will be removed in 0.24. This will change numeric results when test-set sizes are unequal.\n",
      "  DeprecationWarning)\n"
     ]
    },
    {
     "name": "stdout",
     "output_type": "stream",
     "text": [
      "________________\n",
      "best params\n",
      " {'classifier__learning_rate': 0.15, 'classifier__max_depth': 5, 'classifier__n_estimators': 75}\n",
      "\n",
      "best score\n",
      " 0.6222222222222222\n",
      "avg acc in train2 set\n",
      " 0.5392592592592592\n",
      "acc on holdout\n",
      " 0.7\n",
      "avg acc in train1 set\n",
      " 0.596 \n",
      "\n",
      "\n",
      "amount_features 18\n",
      "['avg_of_amount_fixation_Neutral', 'STD_fixation_length_Disgusted', 'Ratio D/D+N', 'avg_of_sum_fixation_length_Neutral', 'STD_pupil_size_All', 'STD_pupil_size_Disgusted', 'avg_of_amount_fixation_White_Space', 'average_fixation_length_Disgusted', 'STD_pupil_size_White_Space', 'avg_of_sum_fixation_length_White_Space']\n"
     ]
    },
    {
     "name": "stderr",
     "output_type": "stream",
     "text": [
      "C:\\Anaconda\\lib\\site-packages\\sklearn\\model_selection\\_search.py:841: DeprecationWarning: The default of the `iid` parameter will change from True to False in version 0.22 and will be removed in 0.24. This will change numeric results when test-set sizes are unequal.\n",
      "  DeprecationWarning)\n"
     ]
    },
    {
     "name": "stdout",
     "output_type": "stream",
     "text": [
      "________________\n",
      "best params\n",
      " {'classifier__learning_rate': 0.05, 'classifier__max_depth': 4, 'classifier__n_estimators': 100}\n",
      "\n",
      "best score\n",
      " 0.6666666666666666\n",
      "avg acc in train2 set\n",
      " 0.5622222222222221\n",
      "acc on holdout\n",
      " 0.9\n",
      "avg acc in train1 set\n",
      " 0.598 \n",
      "\n",
      "\n",
      "amount_features 18\n",
      "['STD_pupil_size_Disgusted', 'STD_pupil_size_All', 'avg_of_amount_fixation_White_Space', 'avg_of_sum_fixation_length_Neutral', 'STD_pupil_size_White_Space', 'avg_of_amount_fixation_Neutral', 'avg_of_sum_fixation_length_White_Space', 'average_fixation_length_Disgusted', 'STD_fixation_length_Disgusted', 'Ratio D/D+N']\n"
     ]
    },
    {
     "name": "stderr",
     "output_type": "stream",
     "text": [
      "C:\\Anaconda\\lib\\site-packages\\sklearn\\model_selection\\_search.py:841: DeprecationWarning: The default of the `iid` parameter will change from True to False in version 0.22 and will be removed in 0.24. This will change numeric results when test-set sizes are unequal.\n",
      "  DeprecationWarning)\n"
     ]
    },
    {
     "name": "stdout",
     "output_type": "stream",
     "text": [
      "________________\n",
      "best params\n",
      " {'classifier__learning_rate': 0.05, 'classifier__max_depth': 3, 'classifier__n_estimators': 150}\n",
      "\n",
      "best score\n",
      " 0.6444444444444445\n",
      "avg acc in train2 set\n",
      " 0.5133333333333333\n",
      "acc on holdout\n",
      " 0.4\n",
      "avg acc in train1 set\n",
      " 0.606 \n",
      "\n",
      "\n",
      "amount_features 18\n",
      "['avg_of_amount_fixation_Neutral', 'STD_pupil_size_All', 'avg_of_amount_fixation_White_Space', 'STD_fixation_length_Disgusted', 'Ratio D/D+N', 'STD_pupil_size_Disgusted', 'avg_of_sum_fixation_length_Neutral', 'avg_of_sum_fixation_length_White_Space', 'average_fixation_length_Disgusted', 'STD_pupil_size_White_Space']\n"
     ]
    },
    {
     "name": "stderr",
     "output_type": "stream",
     "text": [
      "C:\\Anaconda\\lib\\site-packages\\sklearn\\model_selection\\_search.py:841: DeprecationWarning: The default of the `iid` parameter will change from True to False in version 0.22 and will be removed in 0.24. This will change numeric results when test-set sizes are unequal.\n",
      "  DeprecationWarning)\n"
     ]
    },
    {
     "name": "stdout",
     "output_type": "stream",
     "text": [
      "________________\n",
      "best params\n",
      " {'classifier__learning_rate': 0.1, 'classifier__max_depth': 5, 'classifier__n_estimators': 150}\n",
      "\n",
      "best score\n",
      " 0.6333333333333333\n",
      "avg acc in train2 set\n",
      " 0.5933333333333333\n",
      "acc on holdout\n",
      " 0.7\n",
      "avg acc in train1 set\n",
      " 0.5966666666666665 \n",
      "\n",
      "\n",
      "amount_features 18\n",
      "['STD_pupil_size_Disgusted', 'STD_fixation_length_Disgusted', 'avg_of_sum_fixation_length_Neutral', 'avg_of_sum_fixation_length_White_Space', 'STD_pupil_size_All', 'avg_of_amount_fixation_Neutral', 'STD_pupil_size_White_Space', 'avg_of_amount_fixation_White_Space', 'average_fixation_length_Disgusted', 'Ratio D/D+N']\n"
     ]
    },
    {
     "name": "stderr",
     "output_type": "stream",
     "text": [
      "C:\\Anaconda\\lib\\site-packages\\sklearn\\model_selection\\_search.py:841: DeprecationWarning: The default of the `iid` parameter will change from True to False in version 0.22 and will be removed in 0.24. This will change numeric results when test-set sizes are unequal.\n",
      "  DeprecationWarning)\n"
     ]
    },
    {
     "name": "stdout",
     "output_type": "stream",
     "text": [
      "________________\n",
      "best params\n",
      " {'classifier__learning_rate': 0.1, 'classifier__max_depth': 4, 'classifier__n_estimators': 75}\n",
      "\n",
      "best score\n",
      " 0.6555555555555556\n",
      "avg acc in train2 set\n",
      " 0.537037037037037\n",
      "acc on holdout\n",
      " 0.4\n",
      "avg acc in train1 set\n",
      " 0.6066666666666667 \n",
      "\n",
      "\n",
      "amount_features 18\n",
      "['STD_pupil_size_All', 'average_fixation_length_Disgusted', 'avg_of_sum_fixation_length_Neutral', 'avg_of_amount_fixation_White_Space', 'avg_of_amount_fixation_Neutral', 'Ratio D/D+N', 'STD_pupil_size_White_Space', 'STD_fixation_length_Disgusted', 'avg_of_sum_fixation_length_White_Space', 'STD_pupil_size_Disgusted']\n"
     ]
    },
    {
     "name": "stderr",
     "output_type": "stream",
     "text": [
      "C:\\Anaconda\\lib\\site-packages\\sklearn\\model_selection\\_search.py:841: DeprecationWarning: The default of the `iid` parameter will change from True to False in version 0.22 and will be removed in 0.24. This will change numeric results when test-set sizes are unequal.\n",
      "  DeprecationWarning)\n"
     ]
    },
    {
     "name": "stdout",
     "output_type": "stream",
     "text": [
      "________________\n",
      "best params\n",
      " {'classifier__learning_rate': 0.05, 'classifier__max_depth': 7, 'classifier__n_estimators': 75}\n",
      "\n",
      "best score\n",
      " 0.7\n",
      "avg acc in train2 set\n",
      " 0.6237037037037035\n",
      "acc on holdout\n",
      " 0.4\n",
      "avg acc in train1 set\n",
      " 0.6233333333333333 \n",
      "\n",
      "\n",
      "amount_features 18\n",
      "['Ratio D/D+N', 'avg_of_sum_fixation_length_White_Space', 'avg_of_amount_fixation_Neutral', 'STD_fixation_length_Disgusted', 'avg_of_amount_fixation_White_Space', 'STD_pupil_size_Disgusted', 'STD_pupil_size_White_Space', 'STD_pupil_size_All', 'avg_of_sum_fixation_length_Neutral', 'average_fixation_length_Disgusted']\n"
     ]
    },
    {
     "name": "stderr",
     "output_type": "stream",
     "text": [
      "C:\\Anaconda\\lib\\site-packages\\sklearn\\model_selection\\_search.py:841: DeprecationWarning: The default of the `iid` parameter will change from True to False in version 0.22 and will be removed in 0.24. This will change numeric results when test-set sizes are unequal.\n",
      "  DeprecationWarning)\n"
     ]
    },
    {
     "name": "stdout",
     "output_type": "stream",
     "text": [
      "________________\n",
      "best params\n",
      " {'classifier__learning_rate': 0.05, 'classifier__max_depth': 6, 'classifier__n_estimators': 75}\n",
      "\n",
      "best score\n",
      " 0.7111111111111111\n",
      "avg acc in train2 set\n",
      " 0.6555555555555556\n",
      "acc on holdout\n",
      " 0.5\n",
      "avg acc in train1 set\n",
      " 0.6193333333333333 \n",
      "\n",
      "\n",
      "amount_features 18\n",
      "['STD_pupil_size_All', 'STD_fixation_length_Disgusted', 'Ratio D/D+N', 'STD_pupil_size_White_Space', 'STD_pupil_size_Disgusted', 'avg_of_sum_fixation_length_Neutral', 'avg_of_amount_fixation_Neutral', 'avg_of_sum_fixation_length_White_Space', 'avg_of_amount_fixation_White_Space', 'average_fixation_length_Disgusted']\n"
     ]
    },
    {
     "name": "stderr",
     "output_type": "stream",
     "text": [
      "C:\\Anaconda\\lib\\site-packages\\sklearn\\model_selection\\_search.py:841: DeprecationWarning: The default of the `iid` parameter will change from True to False in version 0.22 and will be removed in 0.24. This will change numeric results when test-set sizes are unequal.\n",
      "  DeprecationWarning)\n"
     ]
    },
    {
     "name": "stdout",
     "output_type": "stream",
     "text": [
      "________________\n",
      "best params\n",
      " {'classifier__learning_rate': 0.15, 'classifier__max_depth': 4, 'classifier__n_estimators': 150}\n",
      "\n",
      "best score\n",
      " 0.6333333333333333\n",
      "avg acc in train2 set\n",
      " 0.5955555555555555\n",
      "acc on holdout\n",
      " 0.8\n",
      "avg acc in train1 set\n",
      " 0.5846666666666668 \n",
      "\n",
      "\n",
      "amount_features 18\n",
      "['STD_pupil_size_White_Space', 'avg_of_amount_fixation_Neutral', 'STD_pupil_size_Disgusted', 'STD_pupil_size_All', 'avg_of_amount_fixation_White_Space', 'Ratio D/D+N', 'avg_of_sum_fixation_length_Neutral', 'avg_of_sum_fixation_length_White_Space', 'average_fixation_length_Disgusted', 'STD_fixation_length_Disgusted']\n"
     ]
    },
    {
     "name": "stderr",
     "output_type": "stream",
     "text": [
      "C:\\Anaconda\\lib\\site-packages\\sklearn\\model_selection\\_search.py:841: DeprecationWarning: The default of the `iid` parameter will change from True to False in version 0.22 and will be removed in 0.24. This will change numeric results when test-set sizes are unequal.\n",
      "  DeprecationWarning)\n"
     ]
    },
    {
     "name": "stdout",
     "output_type": "stream",
     "text": [
      "________________\n",
      "best params\n",
      " {'classifier__learning_rate': 0.1, 'classifier__max_depth': 3, 'classifier__n_estimators': 75}\n",
      "\n",
      "best score\n",
      " 0.5888888888888889\n",
      "avg acc in train2 set\n",
      " 0.5444444444444444\n",
      "acc on holdout\n",
      " 0.8\n",
      "avg acc in train1 set\n",
      " 0.5853333333333333 \n",
      "\n",
      "\n",
      "amount_features 18\n",
      "['STD_pupil_size_All', 'avg_of_amount_fixation_Neutral', 'STD_fixation_length_Disgusted', 'average_fixation_length_Disgusted', 'avg_of_amount_fixation_White_Space', 'Ratio D/D+N', 'STD_pupil_size_White_Space', 'STD_pupil_size_Disgusted', 'avg_of_sum_fixation_length_White_Space', 'avg_of_sum_fixation_length_Neutral']\n"
     ]
    },
    {
     "name": "stderr",
     "output_type": "stream",
     "text": [
      "C:\\Anaconda\\lib\\site-packages\\sklearn\\model_selection\\_search.py:841: DeprecationWarning: The default of the `iid` parameter will change from True to False in version 0.22 and will be removed in 0.24. This will change numeric results when test-set sizes are unequal.\n",
      "  DeprecationWarning)\n"
     ]
    },
    {
     "name": "stdout",
     "output_type": "stream",
     "text": [
      "________________\n",
      "best params\n",
      " {'classifier__learning_rate': 0.05, 'classifier__max_depth': 4, 'classifier__n_estimators': 200}\n",
      "\n",
      "best score\n",
      " 0.6333333333333333\n",
      "avg acc in train2 set\n",
      " 0.64\n",
      "acc on holdout\n",
      " 0.3\n",
      "avg acc in train1 set\n",
      " 0.598 \n",
      "\n",
      "\n",
      "amount_features 18\n",
      "['avg_of_amount_fixation_Neutral', 'STD_pupil_size_Disgusted', 'avg_of_sum_fixation_length_White_Space', 'STD_pupil_size_White_Space', 'average_fixation_length_Disgusted', 'avg_of_amount_fixation_White_Space', 'STD_fixation_length_Disgusted', 'Ratio D/D+N', 'avg_of_sum_fixation_length_Neutral', 'STD_pupil_size_All']\n"
     ]
    },
    {
     "name": "stderr",
     "output_type": "stream",
     "text": [
      "C:\\Anaconda\\lib\\site-packages\\sklearn\\model_selection\\_search.py:841: DeprecationWarning: The default of the `iid` parameter will change from True to False in version 0.22 and will be removed in 0.24. This will change numeric results when test-set sizes are unequal.\n",
      "  DeprecationWarning)\n"
     ]
    },
    {
     "name": "stdout",
     "output_type": "stream",
     "text": [
      "________________\n",
      "best params\n",
      " {'classifier__learning_rate': 0.05, 'classifier__max_depth': 4, 'classifier__n_estimators': 150}\n",
      "\n",
      "best score\n",
      " 0.6111111111111112\n",
      "avg acc in train2 set\n",
      " 0.5237037037037037\n",
      "acc on holdout\n",
      " 0.7\n",
      "avg acc in train1 set\n",
      " 0.6120000000000001 \n",
      "\n",
      "\n",
      "amount_features 18\n",
      "['avg_of_sum_fixation_length_White_Space', 'avg_of_amount_fixation_White_Space', 'STD_pupil_size_Disgusted', 'STD_pupil_size_White_Space', 'Ratio D/D+N', 'avg_of_amount_fixation_Neutral', 'STD_fixation_length_Disgusted', 'average_fixation_length_Disgusted', 'avg_of_sum_fixation_length_Neutral', 'STD_pupil_size_All']\n"
     ]
    },
    {
     "name": "stderr",
     "output_type": "stream",
     "text": [
      "C:\\Anaconda\\lib\\site-packages\\sklearn\\model_selection\\_search.py:841: DeprecationWarning: The default of the `iid` parameter will change from True to False in version 0.22 and will be removed in 0.24. This will change numeric results when test-set sizes are unequal.\n",
      "  DeprecationWarning)\n"
     ]
    },
    {
     "name": "stdout",
     "output_type": "stream",
     "text": [
      "________________\n",
      "best params\n",
      " {'classifier__learning_rate': 0.05, 'classifier__max_depth': 4, 'classifier__n_estimators': 75}\n",
      "\n",
      "best score\n",
      " 0.5888888888888889\n",
      "avg acc in train2 set\n",
      " 0.5999999999999999\n",
      "acc on holdout\n",
      " 0.7\n",
      "avg acc in train1 set\n",
      " 0.5939999999999999 \n",
      "\n",
      "\n",
      "amount_features 18\n",
      "['avg_of_sum_fixation_length_White_Space', 'STD_pupil_size_White_Space', 'avg_of_amount_fixation_Neutral', 'average_fixation_length_Disgusted', 'avg_of_sum_fixation_length_Neutral', 'avg_of_amount_fixation_White_Space', 'STD_pupil_size_Disgusted', 'STD_fixation_length_Disgusted', 'STD_pupil_size_All', 'Ratio D/D+N']\n"
     ]
    },
    {
     "name": "stderr",
     "output_type": "stream",
     "text": [
      "C:\\Anaconda\\lib\\site-packages\\sklearn\\model_selection\\_search.py:841: DeprecationWarning: The default of the `iid` parameter will change from True to False in version 0.22 and will be removed in 0.24. This will change numeric results when test-set sizes are unequal.\n",
      "  DeprecationWarning)\n"
     ]
    },
    {
     "name": "stdout",
     "output_type": "stream",
     "text": [
      "________________\n",
      "best params\n",
      " {'classifier__learning_rate': 0.05, 'classifier__max_depth': 4, 'classifier__n_estimators': 200}\n",
      "\n",
      "best score\n",
      " 0.6333333333333333\n",
      "avg acc in train2 set\n",
      " 0.5659259259259258\n",
      "acc on holdout\n",
      " 0.7\n",
      "avg acc in train1 set\n",
      " 0.6046666666666667 \n",
      "\n",
      "\n",
      "amount_features 18\n",
      "['STD_pupil_size_White_Space', 'avg_of_sum_fixation_length_Neutral', 'STD_fixation_length_Disgusted', 'STD_pupil_size_All', 'Ratio D/D+N', 'avg_of_amount_fixation_White_Space', 'avg_of_amount_fixation_Neutral', 'STD_pupil_size_Disgusted', 'average_fixation_length_Disgusted', 'avg_of_sum_fixation_length_White_Space']\n"
     ]
    },
    {
     "name": "stderr",
     "output_type": "stream",
     "text": [
      "C:\\Anaconda\\lib\\site-packages\\sklearn\\model_selection\\_search.py:841: DeprecationWarning: The default of the `iid` parameter will change from True to False in version 0.22 and will be removed in 0.24. This will change numeric results when test-set sizes are unequal.\n",
      "  DeprecationWarning)\n"
     ]
    },
    {
     "name": "stdout",
     "output_type": "stream",
     "text": [
      "________________\n",
      "best params\n",
      " {'classifier__learning_rate': 0.05, 'classifier__max_depth': 7, 'classifier__n_estimators': 75}\n",
      "\n",
      "best score\n",
      " 0.6\n",
      "avg acc in train2 set\n",
      " 0.5229629629629629\n",
      "acc on holdout\n",
      " 0.6\n",
      "avg acc in train1 set\n",
      " 0.6293333333333334 \n",
      "\n",
      "\n",
      "amount_features 18\n",
      "['STD_pupil_size_Disgusted', 'STD_pupil_size_All', 'avg_of_sum_fixation_length_White_Space', 'average_fixation_length_Disgusted', 'avg_of_amount_fixation_Neutral', 'Ratio D/D+N', 'STD_pupil_size_White_Space', 'avg_of_amount_fixation_White_Space', 'avg_of_sum_fixation_length_Neutral', 'STD_fixation_length_Disgusted']\n"
     ]
    },
    {
     "name": "stderr",
     "output_type": "stream",
     "text": [
      "C:\\Anaconda\\lib\\site-packages\\sklearn\\model_selection\\_search.py:841: DeprecationWarning: The default of the `iid` parameter will change from True to False in version 0.22 and will be removed in 0.24. This will change numeric results when test-set sizes are unequal.\n",
      "  DeprecationWarning)\n"
     ]
    },
    {
     "name": "stdout",
     "output_type": "stream",
     "text": [
      "________________\n",
      "best params\n",
      " {'classifier__learning_rate': 0.1, 'classifier__max_depth': 5, 'classifier__n_estimators': 100}\n",
      "\n",
      "best score\n",
      " 0.5555555555555556\n",
      "avg acc in train2 set\n",
      " 0.49703703703703705\n",
      "acc on holdout\n",
      " 0.8\n",
      "avg acc in train1 set\n",
      " 0.6166666666666666 \n",
      "\n"
     ]
    }
   ],
   "source": [
    "for i in range(100):\n",
    "    amount_features = 10 + (i//20)*2\n",
    "    print(\"\\namount_features\", amount_features)\n",
    "    #which features to take\n",
    "\n",
    "    columns_shuffled = list(X_train.columns)\n",
    "    random.shuffle(columns_shuffled)\n",
    "    print(columns_shuffled[:amount_features])\n",
    "\n",
    "    \n",
    "    X_train = X_train[columns_shuffled[:amount_features]]\n",
    "    \n",
    "    X_train_2, X_test_2, y_train_2, y_test_2 = train_test_split(X_train, y_train, test_size = 0.1, stratify=y_train)\n",
    "    \n",
    "    \n",
    "    pipe =  Pipeline([\n",
    "    ('classifier', GradientBoostingClassifier())\n",
    "    ])\n",
    "    \n",
    "    params_grid = [\n",
    "    {\n",
    "              'classifier__max_depth': [4, 3, 2,5,6,7],\n",
    "        'classifier__learning_rate': [0.1, 0.05, 0.15,0.2],\n",
    "        'classifier__n_estimators': [75, 150, 100,200]}]\n",
    "        #'classifier': [RandomForestClassifier(), GradientBoostingClassifier(), AdaBoostClassifier]\n",
    "        \n",
    "    \n",
    "    \n",
    "    cv = StratifiedKFold(10)\n",
    "    gs = GridSearchCV(pipe, params_grid, cv=cv, scoring='accuracy')\n",
    "    gs.fit(X_train_2, y_train_2);\n",
    "\n",
    "\n",
    "    print(\"________________\\nbest params\\n\",gs.best_params_)\n",
    "    print(\"\\nbest score\\n\",gs.best_score_)\n",
    "\n",
    "    results = []\n",
    "    k = 15\n",
    "    for i in range(k):\n",
    "        loo = LeaveOneOut()\n",
    "        score = cross_val_score(gs.best_estimator_, X_train_2, y_train_2, cv=loo)\n",
    "        results.append(score.mean())\n",
    "    print(\"avg acc in train2 set\\n\",sum(results)/k)\n",
    "\n",
    "    model = gs.best_estimator_.fit(X_train_2, y_train_2)\n",
    "    y_pred = model.predict(X_test_2)\n",
    "    print (\"acc on holdout\\n\", accuracy_score(y_pred, y_test_2))\n",
    "    \n",
    "    results = []\n",
    "    for i in range(k):\n",
    "        loo = LeaveOneOut()\n",
    "        score = cross_val_score(gs.best_estimator_, X_train, y_train, cv=loo)\n",
    "        results.append(score.mean())\n",
    "    print(\"avg acc in train1 set\\n\",sum(results)/k, \"\\n\")\n",
    "    "
   ]
  },
  {
   "cell_type": "code",
   "execution_count": null,
   "metadata": {},
   "outputs": [],
   "source": [
    "\n"
   ]
  },
  {
   "cell_type": "code",
   "execution_count": 8,
   "metadata": {},
   "outputs": [],
   "source": [
    "? AdaBoostClassifier"
   ]
  },
  {
   "cell_type": "code",
   "execution_count": null,
   "metadata": {},
   "outputs": [],
   "source": []
  },
  {
   "cell_type": "code",
   "execution_count": null,
   "metadata": {},
   "outputs": [],
   "source": []
  },
  {
   "cell_type": "code",
   "execution_count": null,
   "metadata": {},
   "outputs": [],
   "source": []
  },
  {
   "cell_type": "code",
   "execution_count": null,
   "metadata": {},
   "outputs": [],
   "source": [
    "\n"
   ]
  }
 ],
 "metadata": {
  "kernelspec": {
   "display_name": "Python 3",
   "language": "python",
   "name": "python3"
  },
  "language_info": {
   "codemirror_mode": {
    "name": "ipython",
    "version": 3
   },
   "file_extension": ".py",
   "mimetype": "text/x-python",
   "name": "python",
   "nbconvert_exporter": "python",
   "pygments_lexer": "ipython3",
   "version": "3.7.1"
  }
 },
 "nbformat": 4,
 "nbformat_minor": 2
}
